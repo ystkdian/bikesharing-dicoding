{
 "cells": [
  {
   "cell_type": "markdown",
   "metadata": {
    "id": "H9wADwK78DCz"
   },
   "source": [
    "# Proyek Analisis Data: Bike Sharing Dataset\n",
    "- **Nama:** Yestika Dian Wulandari\n",
    "- **Email:** ystkdian@gmail.com | a009xbf506@devacademy.id\n",
    "- **ID Dicoding:** ystkdian"
   ]
  },
  {
   "cell_type": "markdown",
   "metadata": {
    "id": "eE0raob58DC0"
   },
   "source": [
    "## Menentukan Pertanyaan Bisnis"
   ]
  },
  {
   "cell_type": "markdown",
   "metadata": {
    "id": "GmQeQ5YF8DC0"
   },
   "source": [
    "1. Bagaimana tren penggunaan layanan *bike sharing* dari tahun 2011-2012?\n",
    "2. Pada hari apa sepeda paling banyak dan paling sedikit digunakan?\n",
    "3. Pada jam berapa sepeda paling banyak dan paling sedikit digunakan?\n",
    "4. Pada musim apa sepeda paling banyak dan paling sedikit digunakan?\n",
    "5. Bagaimana perbedaan penggunaan layanan pada pengguna *casual* dan *registered*?"
   ]
  },
  {
   "cell_type": "markdown",
   "metadata": {
    "id": "H-z4QGlO8DC1"
   },
   "source": [
    "## Import Semua Packages/Library yang Digunakan"
   ]
  },
  {
   "cell_type": "markdown",
   "metadata": {},
   "source": [
    "Hal pertama yang harus dilakukan adalah melakukan import library/packages yang dibutuhkan dalam proses analisis."
   ]
  },
  {
   "cell_type": "code",
   "execution_count": 1,
   "metadata": {
    "id": "FVYwaObI8DC1"
   },
   "outputs": [],
   "source": [
    "# Mengimpor library/packages\n",
    "import numpy as np\n",
    "import pandas as pd\n",
    "import matplotlib\n",
    "import matplotlib.pyplot as plt\n",
    "import seaborn as sns\n",
    "import gdown\n",
    "from zipfile import ZipFile\n",
    "import os\n",
    "import glob"
   ]
  },
  {
   "cell_type": "markdown",
   "metadata": {
    "id": "h_Sh51Xy8DC1"
   },
   "source": [
    "## Data Wrangling"
   ]
  },
  {
   "cell_type": "markdown",
   "metadata": {
    "id": "sXU2GBYu8DC1"
   },
   "source": [
    "### Gathering Data"
   ]
  },
  {
   "cell_type": "markdown",
   "metadata": {},
   "source": [
    "Tahap pertama dalam proses data wrangling adalah pengumpulan data. Data yang digunakan pada proyek ini akan diambil dari Google Drive yang telah disediakan oleh Dicoding. Secara garis besar, proses yang akan dilakukan pada tahap pengumpulan data adalah sebagai berikut:\n",
    "1. Mengunduh dataset dari Google Drive ke direktori proyek menggunakan gdown.\n",
    "2. Melakukan ekstraksi file yang telah diunduh ke folder output menggunakan zipfile.\n",
    "3. Menghapus file .zip yang telah diekstraksi.\n",
    "4. Memuat tabel ke dalam DataFrame."
   ]
  },
  {
   "cell_type": "code",
   "execution_count": 2,
   "metadata": {
    "id": "zjCBk1BI8DC1"
   },
   "outputs": [
    {
     "name": "stderr",
     "output_type": "stream",
     "text": [
      "Downloading...\n",
      "From: https://drive.google.com/uc?id=1RaBmV6Q6FYWU4HWZs80Suqd7KQC34diQ\n",
      "To: C:\\Users\\ystkd\\submission_analisis_data\\bike-sharing.zip\n",
      "100%|████████████████████████████████████████████████████████████████████████████████| 280k/280k [00:01<00:00, 176kB/s]"
     ]
    },
    {
     "name": "stdout",
     "output_type": "stream",
     "text": [
      "Download completed.\n",
      "Extraction completed.\n",
      "Zip file successfully deleted.\n"
     ]
    },
    {
     "name": "stderr",
     "output_type": "stream",
     "text": [
      "\n"
     ]
    }
   ],
   "source": [
    "# Mengunduh dataset\n",
    "url = 'https://drive.google.com/file/d/1RaBmV6Q6FYWU4HWZs80Suqd7KQC34diQ/edit'\n",
    "downloaded_dataset = 'bike-sharing.zip'\n",
    "\n",
    "gdown.download(url, downloaded_dataset, fuzzy=True)\n",
    "\n",
    "print(\"Download completed.\")\n",
    "\n",
    "# Membuat direktori `data` untuk menampung dataset yang akan diekstraksi\n",
    "extracted_folder = 'data/'\n",
    "\n",
    "if not os.path.exists(extracted_folder):\n",
    "    os.makedirs(extracted_folder)\n",
    "\n",
    "# Mengekstraksi file ke folder `data`\n",
    "with ZipFile(downloaded_dataset, 'r') as myzip:\n",
    "    myzip.extractall(extracted_folder)\n",
    "\n",
    "print(\"Extraction completed.\")\n",
    "\n",
    "# Menghapus file zip dataset\n",
    "os.remove(downloaded_dataset)\n",
    "\n",
    "print(\"Zip file successfully deleted.\")"
   ]
  },
  {
   "cell_type": "code",
   "execution_count": 3,
   "metadata": {},
   "outputs": [
    {
     "name": "stdout",
     "output_type": "stream",
     "text": [
      "['data\\\\day.csv', 'data\\\\hour.csv']\n"
     ]
    }
   ],
   "source": [
    "# Melihat file .csv yang ada pada folder `data`\n",
    "path = 'data'\n",
    "files = glob.glob(path + \"/*.csv\") \n",
    "print(files)"
   ]
  },
  {
   "cell_type": "markdown",
   "metadata": {},
   "source": [
    "Terdapat dua file .csv dari dataset, yaitu `day.csv` dan `hour.csv`. Keduanya akan dimuat ke dalam dua dataframe berbeda, yaitu `day_df` dan `hour_df`."
   ]
  },
  {
   "cell_type": "code",
   "execution_count": 4,
   "metadata": {},
   "outputs": [
    {
     "data": {
      "text/html": [
       "<div>\n",
       "<style scoped>\n",
       "    .dataframe tbody tr th:only-of-type {\n",
       "        vertical-align: middle;\n",
       "    }\n",
       "\n",
       "    .dataframe tbody tr th {\n",
       "        vertical-align: top;\n",
       "    }\n",
       "\n",
       "    .dataframe thead th {\n",
       "        text-align: right;\n",
       "    }\n",
       "</style>\n",
       "<table border=\"1\" class=\"dataframe\">\n",
       "  <thead>\n",
       "    <tr style=\"text-align: right;\">\n",
       "      <th></th>\n",
       "      <th>instant</th>\n",
       "      <th>dteday</th>\n",
       "      <th>season</th>\n",
       "      <th>yr</th>\n",
       "      <th>mnth</th>\n",
       "      <th>holiday</th>\n",
       "      <th>weekday</th>\n",
       "      <th>workingday</th>\n",
       "      <th>weathersit</th>\n",
       "      <th>temp</th>\n",
       "      <th>atemp</th>\n",
       "      <th>hum</th>\n",
       "      <th>windspeed</th>\n",
       "      <th>casual</th>\n",
       "      <th>registered</th>\n",
       "      <th>cnt</th>\n",
       "    </tr>\n",
       "  </thead>\n",
       "  <tbody>\n",
       "    <tr>\n",
       "      <th>0</th>\n",
       "      <td>1</td>\n",
       "      <td>2011-01-01</td>\n",
       "      <td>1</td>\n",
       "      <td>0</td>\n",
       "      <td>1</td>\n",
       "      <td>0</td>\n",
       "      <td>6</td>\n",
       "      <td>0</td>\n",
       "      <td>2</td>\n",
       "      <td>0.344167</td>\n",
       "      <td>0.363625</td>\n",
       "      <td>0.805833</td>\n",
       "      <td>0.160446</td>\n",
       "      <td>331</td>\n",
       "      <td>654</td>\n",
       "      <td>985</td>\n",
       "    </tr>\n",
       "    <tr>\n",
       "      <th>1</th>\n",
       "      <td>2</td>\n",
       "      <td>2011-01-02</td>\n",
       "      <td>1</td>\n",
       "      <td>0</td>\n",
       "      <td>1</td>\n",
       "      <td>0</td>\n",
       "      <td>0</td>\n",
       "      <td>0</td>\n",
       "      <td>2</td>\n",
       "      <td>0.363478</td>\n",
       "      <td>0.353739</td>\n",
       "      <td>0.696087</td>\n",
       "      <td>0.248539</td>\n",
       "      <td>131</td>\n",
       "      <td>670</td>\n",
       "      <td>801</td>\n",
       "    </tr>\n",
       "    <tr>\n",
       "      <th>2</th>\n",
       "      <td>3</td>\n",
       "      <td>2011-01-03</td>\n",
       "      <td>1</td>\n",
       "      <td>0</td>\n",
       "      <td>1</td>\n",
       "      <td>0</td>\n",
       "      <td>1</td>\n",
       "      <td>1</td>\n",
       "      <td>1</td>\n",
       "      <td>0.196364</td>\n",
       "      <td>0.189405</td>\n",
       "      <td>0.437273</td>\n",
       "      <td>0.248309</td>\n",
       "      <td>120</td>\n",
       "      <td>1229</td>\n",
       "      <td>1349</td>\n",
       "    </tr>\n",
       "    <tr>\n",
       "      <th>3</th>\n",
       "      <td>4</td>\n",
       "      <td>2011-01-04</td>\n",
       "      <td>1</td>\n",
       "      <td>0</td>\n",
       "      <td>1</td>\n",
       "      <td>0</td>\n",
       "      <td>2</td>\n",
       "      <td>1</td>\n",
       "      <td>1</td>\n",
       "      <td>0.200000</td>\n",
       "      <td>0.212122</td>\n",
       "      <td>0.590435</td>\n",
       "      <td>0.160296</td>\n",
       "      <td>108</td>\n",
       "      <td>1454</td>\n",
       "      <td>1562</td>\n",
       "    </tr>\n",
       "    <tr>\n",
       "      <th>4</th>\n",
       "      <td>5</td>\n",
       "      <td>2011-01-05</td>\n",
       "      <td>1</td>\n",
       "      <td>0</td>\n",
       "      <td>1</td>\n",
       "      <td>0</td>\n",
       "      <td>3</td>\n",
       "      <td>1</td>\n",
       "      <td>1</td>\n",
       "      <td>0.226957</td>\n",
       "      <td>0.229270</td>\n",
       "      <td>0.436957</td>\n",
       "      <td>0.186900</td>\n",
       "      <td>82</td>\n",
       "      <td>1518</td>\n",
       "      <td>1600</td>\n",
       "    </tr>\n",
       "  </tbody>\n",
       "</table>\n",
       "</div>"
      ],
      "text/plain": [
       "   instant      dteday  season  yr  mnth  holiday  weekday  workingday  \\\n",
       "0        1  2011-01-01       1   0     1        0        6           0   \n",
       "1        2  2011-01-02       1   0     1        0        0           0   \n",
       "2        3  2011-01-03       1   0     1        0        1           1   \n",
       "3        4  2011-01-04       1   0     1        0        2           1   \n",
       "4        5  2011-01-05       1   0     1        0        3           1   \n",
       "\n",
       "   weathersit      temp     atemp       hum  windspeed  casual  registered  \\\n",
       "0           2  0.344167  0.363625  0.805833   0.160446     331         654   \n",
       "1           2  0.363478  0.353739  0.696087   0.248539     131         670   \n",
       "2           1  0.196364  0.189405  0.437273   0.248309     120        1229   \n",
       "3           1  0.200000  0.212122  0.590435   0.160296     108        1454   \n",
       "4           1  0.226957  0.229270  0.436957   0.186900      82        1518   \n",
       "\n",
       "    cnt  \n",
       "0   985  \n",
       "1   801  \n",
       "2  1349  \n",
       "3  1562  \n",
       "4  1600  "
      ]
     },
     "execution_count": 4,
     "metadata": {},
     "output_type": "execute_result"
    }
   ],
   "source": [
    "# Memuat data `day.csv`\n",
    "day_df = pd.read_csv('data/day.csv')\n",
    "day_df.head()"
   ]
  },
  {
   "cell_type": "code",
   "execution_count": 5,
   "metadata": {
    "id": "MMi6xGaDkbCi"
   },
   "outputs": [
    {
     "data": {
      "text/html": [
       "<div>\n",
       "<style scoped>\n",
       "    .dataframe tbody tr th:only-of-type {\n",
       "        vertical-align: middle;\n",
       "    }\n",
       "\n",
       "    .dataframe tbody tr th {\n",
       "        vertical-align: top;\n",
       "    }\n",
       "\n",
       "    .dataframe thead th {\n",
       "        text-align: right;\n",
       "    }\n",
       "</style>\n",
       "<table border=\"1\" class=\"dataframe\">\n",
       "  <thead>\n",
       "    <tr style=\"text-align: right;\">\n",
       "      <th></th>\n",
       "      <th>instant</th>\n",
       "      <th>dteday</th>\n",
       "      <th>season</th>\n",
       "      <th>yr</th>\n",
       "      <th>mnth</th>\n",
       "      <th>hr</th>\n",
       "      <th>holiday</th>\n",
       "      <th>weekday</th>\n",
       "      <th>workingday</th>\n",
       "      <th>weathersit</th>\n",
       "      <th>temp</th>\n",
       "      <th>atemp</th>\n",
       "      <th>hum</th>\n",
       "      <th>windspeed</th>\n",
       "      <th>casual</th>\n",
       "      <th>registered</th>\n",
       "      <th>cnt</th>\n",
       "    </tr>\n",
       "  </thead>\n",
       "  <tbody>\n",
       "    <tr>\n",
       "      <th>0</th>\n",
       "      <td>1</td>\n",
       "      <td>2011-01-01</td>\n",
       "      <td>1</td>\n",
       "      <td>0</td>\n",
       "      <td>1</td>\n",
       "      <td>0</td>\n",
       "      <td>0</td>\n",
       "      <td>6</td>\n",
       "      <td>0</td>\n",
       "      <td>1</td>\n",
       "      <td>0.24</td>\n",
       "      <td>0.2879</td>\n",
       "      <td>0.81</td>\n",
       "      <td>0.0</td>\n",
       "      <td>3</td>\n",
       "      <td>13</td>\n",
       "      <td>16</td>\n",
       "    </tr>\n",
       "    <tr>\n",
       "      <th>1</th>\n",
       "      <td>2</td>\n",
       "      <td>2011-01-01</td>\n",
       "      <td>1</td>\n",
       "      <td>0</td>\n",
       "      <td>1</td>\n",
       "      <td>1</td>\n",
       "      <td>0</td>\n",
       "      <td>6</td>\n",
       "      <td>0</td>\n",
       "      <td>1</td>\n",
       "      <td>0.22</td>\n",
       "      <td>0.2727</td>\n",
       "      <td>0.80</td>\n",
       "      <td>0.0</td>\n",
       "      <td>8</td>\n",
       "      <td>32</td>\n",
       "      <td>40</td>\n",
       "    </tr>\n",
       "    <tr>\n",
       "      <th>2</th>\n",
       "      <td>3</td>\n",
       "      <td>2011-01-01</td>\n",
       "      <td>1</td>\n",
       "      <td>0</td>\n",
       "      <td>1</td>\n",
       "      <td>2</td>\n",
       "      <td>0</td>\n",
       "      <td>6</td>\n",
       "      <td>0</td>\n",
       "      <td>1</td>\n",
       "      <td>0.22</td>\n",
       "      <td>0.2727</td>\n",
       "      <td>0.80</td>\n",
       "      <td>0.0</td>\n",
       "      <td>5</td>\n",
       "      <td>27</td>\n",
       "      <td>32</td>\n",
       "    </tr>\n",
       "    <tr>\n",
       "      <th>3</th>\n",
       "      <td>4</td>\n",
       "      <td>2011-01-01</td>\n",
       "      <td>1</td>\n",
       "      <td>0</td>\n",
       "      <td>1</td>\n",
       "      <td>3</td>\n",
       "      <td>0</td>\n",
       "      <td>6</td>\n",
       "      <td>0</td>\n",
       "      <td>1</td>\n",
       "      <td>0.24</td>\n",
       "      <td>0.2879</td>\n",
       "      <td>0.75</td>\n",
       "      <td>0.0</td>\n",
       "      <td>3</td>\n",
       "      <td>10</td>\n",
       "      <td>13</td>\n",
       "    </tr>\n",
       "    <tr>\n",
       "      <th>4</th>\n",
       "      <td>5</td>\n",
       "      <td>2011-01-01</td>\n",
       "      <td>1</td>\n",
       "      <td>0</td>\n",
       "      <td>1</td>\n",
       "      <td>4</td>\n",
       "      <td>0</td>\n",
       "      <td>6</td>\n",
       "      <td>0</td>\n",
       "      <td>1</td>\n",
       "      <td>0.24</td>\n",
       "      <td>0.2879</td>\n",
       "      <td>0.75</td>\n",
       "      <td>0.0</td>\n",
       "      <td>0</td>\n",
       "      <td>1</td>\n",
       "      <td>1</td>\n",
       "    </tr>\n",
       "  </tbody>\n",
       "</table>\n",
       "</div>"
      ],
      "text/plain": [
       "   instant      dteday  season  yr  mnth  hr  holiday  weekday  workingday  \\\n",
       "0        1  2011-01-01       1   0     1   0        0        6           0   \n",
       "1        2  2011-01-01       1   0     1   1        0        6           0   \n",
       "2        3  2011-01-01       1   0     1   2        0        6           0   \n",
       "3        4  2011-01-01       1   0     1   3        0        6           0   \n",
       "4        5  2011-01-01       1   0     1   4        0        6           0   \n",
       "\n",
       "   weathersit  temp   atemp   hum  windspeed  casual  registered  cnt  \n",
       "0           1  0.24  0.2879  0.81        0.0       3          13   16  \n",
       "1           1  0.22  0.2727  0.80        0.0       8          32   40  \n",
       "2           1  0.22  0.2727  0.80        0.0       5          27   32  \n",
       "3           1  0.24  0.2879  0.75        0.0       3          10   13  \n",
       "4           1  0.24  0.2879  0.75        0.0       0           1    1  "
      ]
     },
     "execution_count": 5,
     "metadata": {},
     "output_type": "execute_result"
    }
   ],
   "source": [
    "# Memuat data `hour.csv`\n",
    "hour_df = pd.read_csv('data/hour.csv')\n",
    "hour_df.head()"
   ]
  },
  {
   "cell_type": "markdown",
   "metadata": {},
   "source": [
    "**- Insights -**\n",
    "<br>Jika melihat sekilas dari tabel `day_df` dan `hour_df` ada beberapa perubahan yang sepertinya harus dilakukan, seperti mengubah nama kolom dan tipe datanya."
   ]
  },
  {
   "cell_type": "markdown",
   "metadata": {
    "id": "FHSiqaZp8DC1"
   },
   "source": [
    "### Assessing Data"
   ]
  },
  {
   "cell_type": "markdown",
   "metadata": {},
   "source": [
    "Sebelum dapat dieksplorasi, harus dipastikan data memiliki kualitas yang baik. Pada tahap assessing data, dilakukan penilaian terhadap data untuk melihat permasalahan yang ada pada data yang digunakan. Beberapa hal yang akan dilihat, antara lain:\n",
    "- Kesesuaian tipe data\n",
    "- Ada tidaknya *missing value*\n",
    "- Ada tidaknya *duplicate value*\n",
    "- Ada tidaknya *innacurate value*\n",
    "\n",
    "Untuk mempermudah proses pengecekan, akan dibuat sebuah fungsi bernama `assess_data`."
   ]
  },
  {
   "cell_type": "code",
   "execution_count": 6,
   "metadata": {},
   "outputs": [],
   "source": [
    "# Membuat fungsi `assess_data` \n",
    "def assess_data(df):\n",
    "    \n",
    "    # Memeriksa kesesuaian tipe data melalui method .info()\n",
    "    print(\"\\nTable Info\\n\")\n",
    "    df.info()\n",
    "    print(\"-\" * 50)\n",
    "    \n",
    "    # Memeriksa missing value\n",
    "    print(\"\\nMissing Values\\n\")\n",
    "    print(df.isna().sum())\n",
    "    print(\"-\" * 50)\n",
    "    \n",
    "    # Memeriksa duplicate value\n",
    "    print(\"\\nJumlah data duplikat: \", df.duplicated().sum(), \"\\n\")\n",
    "    print(\"-\" * 50)\n",
    "\n",
    "    # Memeriksa innacurate value\n",
    "    print(\"\\nDeskripsi Statistik Tabel\\n\")\n",
    "    print(df.describe())"
   ]
  },
  {
   "cell_type": "markdown",
   "metadata": {},
   "source": [
    "#### Menilai data `day_df`"
   ]
  },
  {
   "cell_type": "code",
   "execution_count": 7,
   "metadata": {
    "id": "ax-3tEjc9Cj1"
   },
   "outputs": [
    {
     "name": "stdout",
     "output_type": "stream",
     "text": [
      "\n",
      "Table Info\n",
      "\n",
      "<class 'pandas.core.frame.DataFrame'>\n",
      "RangeIndex: 731 entries, 0 to 730\n",
      "Data columns (total 16 columns):\n",
      " #   Column      Non-Null Count  Dtype  \n",
      "---  ------      --------------  -----  \n",
      " 0   instant     731 non-null    int64  \n",
      " 1   dteday      731 non-null    object \n",
      " 2   season      731 non-null    int64  \n",
      " 3   yr          731 non-null    int64  \n",
      " 4   mnth        731 non-null    int64  \n",
      " 5   holiday     731 non-null    int64  \n",
      " 6   weekday     731 non-null    int64  \n",
      " 7   workingday  731 non-null    int64  \n",
      " 8   weathersit  731 non-null    int64  \n",
      " 9   temp        731 non-null    float64\n",
      " 10  atemp       731 non-null    float64\n",
      " 11  hum         731 non-null    float64\n",
      " 12  windspeed   731 non-null    float64\n",
      " 13  casual      731 non-null    int64  \n",
      " 14  registered  731 non-null    int64  \n",
      " 15  cnt         731 non-null    int64  \n",
      "dtypes: float64(4), int64(11), object(1)\n",
      "memory usage: 91.5+ KB\n",
      "--------------------------------------------------\n",
      "\n",
      "Missing Values\n",
      "\n",
      "instant       0\n",
      "dteday        0\n",
      "season        0\n",
      "yr            0\n",
      "mnth          0\n",
      "holiday       0\n",
      "weekday       0\n",
      "workingday    0\n",
      "weathersit    0\n",
      "temp          0\n",
      "atemp         0\n",
      "hum           0\n",
      "windspeed     0\n",
      "casual        0\n",
      "registered    0\n",
      "cnt           0\n",
      "dtype: int64\n",
      "--------------------------------------------------\n",
      "\n",
      "Jumlah data duplikat:  0 \n",
      "\n",
      "--------------------------------------------------\n",
      "\n",
      "Deskripsi Statistik Tabel\n",
      "\n",
      "          instant      season          yr        mnth     holiday     weekday  \\\n",
      "count  731.000000  731.000000  731.000000  731.000000  731.000000  731.000000   \n",
      "mean   366.000000    2.496580    0.500684    6.519836    0.028728    2.997264   \n",
      "std    211.165812    1.110807    0.500342    3.451913    0.167155    2.004787   \n",
      "min      1.000000    1.000000    0.000000    1.000000    0.000000    0.000000   \n",
      "25%    183.500000    2.000000    0.000000    4.000000    0.000000    1.000000   \n",
      "50%    366.000000    3.000000    1.000000    7.000000    0.000000    3.000000   \n",
      "75%    548.500000    3.000000    1.000000   10.000000    0.000000    5.000000   \n",
      "max    731.000000    4.000000    1.000000   12.000000    1.000000    6.000000   \n",
      "\n",
      "       workingday  weathersit        temp       atemp         hum   windspeed  \\\n",
      "count  731.000000  731.000000  731.000000  731.000000  731.000000  731.000000   \n",
      "mean     0.683995    1.395349    0.495385    0.474354    0.627894    0.190486   \n",
      "std      0.465233    0.544894    0.183051    0.162961    0.142429    0.077498   \n",
      "min      0.000000    1.000000    0.059130    0.079070    0.000000    0.022392   \n",
      "25%      0.000000    1.000000    0.337083    0.337842    0.520000    0.134950   \n",
      "50%      1.000000    1.000000    0.498333    0.486733    0.626667    0.180975   \n",
      "75%      1.000000    2.000000    0.655417    0.608602    0.730209    0.233214   \n",
      "max      1.000000    3.000000    0.861667    0.840896    0.972500    0.507463   \n",
      "\n",
      "            casual   registered          cnt  \n",
      "count   731.000000   731.000000   731.000000  \n",
      "mean    848.176471  3656.172367  4504.348837  \n",
      "std     686.622488  1560.256377  1937.211452  \n",
      "min       2.000000    20.000000    22.000000  \n",
      "25%     315.500000  2497.000000  3152.000000  \n",
      "50%     713.000000  3662.000000  4548.000000  \n",
      "75%    1096.000000  4776.500000  5956.000000  \n",
      "max    3410.000000  6946.000000  8714.000000  \n"
     ]
    }
   ],
   "source": [
    "assess_data(day_df)"
   ]
  },
  {
   "cell_type": "markdown",
   "metadata": {},
   "source": [
    "**- Insights -**\n",
    "<br>**Penilaian terhadap tabel `day_df`**\n",
    "1. Beberapa tipe data pada tabel `day_df` perlu dilakukan penyesuaian, antara lain:\n",
    "   - Mengubah nama kolom **dteday, yr, mnth, weekday, weathersit,** dan **cnt**.\n",
    "   - Mengubah tipe data kolom **dteday** dari `object` menjadi `datetime`.\n",
    "   - Mengubah data pada kolom **season, yr, mnth, weekday, workingday,** dan **weathersit** dari `int` menjadi `category`.\n",
    "2. Tidak ada missing value dan data duplikat dari tabel.\n",
    "3. Tidak ada nilai yang terlihat janggal dari data.\n",
    "4. Jumlah data adalah **731** dengan **16 kolom**."
   ]
  },
  {
   "cell_type": "markdown",
   "metadata": {},
   "source": [
    "#### Menilai data `hour_df`"
   ]
  },
  {
   "cell_type": "code",
   "execution_count": 8,
   "metadata": {},
   "outputs": [
    {
     "name": "stdout",
     "output_type": "stream",
     "text": [
      "\n",
      "Table Info\n",
      "\n",
      "<class 'pandas.core.frame.DataFrame'>\n",
      "RangeIndex: 17379 entries, 0 to 17378\n",
      "Data columns (total 17 columns):\n",
      " #   Column      Non-Null Count  Dtype  \n",
      "---  ------      --------------  -----  \n",
      " 0   instant     17379 non-null  int64  \n",
      " 1   dteday      17379 non-null  object \n",
      " 2   season      17379 non-null  int64  \n",
      " 3   yr          17379 non-null  int64  \n",
      " 4   mnth        17379 non-null  int64  \n",
      " 5   hr          17379 non-null  int64  \n",
      " 6   holiday     17379 non-null  int64  \n",
      " 7   weekday     17379 non-null  int64  \n",
      " 8   workingday  17379 non-null  int64  \n",
      " 9   weathersit  17379 non-null  int64  \n",
      " 10  temp        17379 non-null  float64\n",
      " 11  atemp       17379 non-null  float64\n",
      " 12  hum         17379 non-null  float64\n",
      " 13  windspeed   17379 non-null  float64\n",
      " 14  casual      17379 non-null  int64  \n",
      " 15  registered  17379 non-null  int64  \n",
      " 16  cnt         17379 non-null  int64  \n",
      "dtypes: float64(4), int64(12), object(1)\n",
      "memory usage: 2.3+ MB\n",
      "--------------------------------------------------\n",
      "\n",
      "Missing Values\n",
      "\n",
      "instant       0\n",
      "dteday        0\n",
      "season        0\n",
      "yr            0\n",
      "mnth          0\n",
      "hr            0\n",
      "holiday       0\n",
      "weekday       0\n",
      "workingday    0\n",
      "weathersit    0\n",
      "temp          0\n",
      "atemp         0\n",
      "hum           0\n",
      "windspeed     0\n",
      "casual        0\n",
      "registered    0\n",
      "cnt           0\n",
      "dtype: int64\n",
      "--------------------------------------------------\n",
      "\n",
      "Jumlah data duplikat:  0 \n",
      "\n",
      "--------------------------------------------------\n",
      "\n",
      "Deskripsi Statistik Tabel\n",
      "\n",
      "          instant        season            yr          mnth            hr  \\\n",
      "count  17379.0000  17379.000000  17379.000000  17379.000000  17379.000000   \n",
      "mean    8690.0000      2.501640      0.502561      6.537775     11.546752   \n",
      "std     5017.0295      1.106918      0.500008      3.438776      6.914405   \n",
      "min        1.0000      1.000000      0.000000      1.000000      0.000000   \n",
      "25%     4345.5000      2.000000      0.000000      4.000000      6.000000   \n",
      "50%     8690.0000      3.000000      1.000000      7.000000     12.000000   \n",
      "75%    13034.5000      3.000000      1.000000     10.000000     18.000000   \n",
      "max    17379.0000      4.000000      1.000000     12.000000     23.000000   \n",
      "\n",
      "            holiday       weekday    workingday    weathersit          temp  \\\n",
      "count  17379.000000  17379.000000  17379.000000  17379.000000  17379.000000   \n",
      "mean       0.028770      3.003683      0.682721      1.425283      0.496987   \n",
      "std        0.167165      2.005771      0.465431      0.639357      0.192556   \n",
      "min        0.000000      0.000000      0.000000      1.000000      0.020000   \n",
      "25%        0.000000      1.000000      0.000000      1.000000      0.340000   \n",
      "50%        0.000000      3.000000      1.000000      1.000000      0.500000   \n",
      "75%        0.000000      5.000000      1.000000      2.000000      0.660000   \n",
      "max        1.000000      6.000000      1.000000      4.000000      1.000000   \n",
      "\n",
      "              atemp           hum     windspeed        casual    registered  \\\n",
      "count  17379.000000  17379.000000  17379.000000  17379.000000  17379.000000   \n",
      "mean       0.475775      0.627229      0.190098     35.676218    153.786869   \n",
      "std        0.171850      0.192930      0.122340     49.305030    151.357286   \n",
      "min        0.000000      0.000000      0.000000      0.000000      0.000000   \n",
      "25%        0.333300      0.480000      0.104500      4.000000     34.000000   \n",
      "50%        0.484800      0.630000      0.194000     17.000000    115.000000   \n",
      "75%        0.621200      0.780000      0.253700     48.000000    220.000000   \n",
      "max        1.000000      1.000000      0.850700    367.000000    886.000000   \n",
      "\n",
      "                cnt  \n",
      "count  17379.000000  \n",
      "mean     189.463088  \n",
      "std      181.387599  \n",
      "min        1.000000  \n",
      "25%       40.000000  \n",
      "50%      142.000000  \n",
      "75%      281.000000  \n",
      "max      977.000000  \n"
     ]
    }
   ],
   "source": [
    "assess_data(hour_df)"
   ]
  },
  {
   "cell_type": "markdown",
   "metadata": {},
   "source": [
    "**- Insights -**\n",
    "<br>**Penilaian terhadap tabel `hours_df`**\n",
    "1. Karena hampir keseluruhan kolom pada `hours_df` sama dengan `day_df` maka perubahan yang perlu dilakukan kurang lebih sama, yaitu:\n",
    "   - Mengubah nama kolom **dteday, yr, mnth, hr, weekday, weathersit,** dan **cnt**.\n",
    "   - Mengubah tipe data kolom **dteday** dari `object` menjadi `datetime`.\n",
    "   - Mengubah data pada kolom **season, yr, mnth, weekday, workingday,** dan **weathersit** dari `int` menjadi `category`.\n",
    "2. Tidak ada missing value dan data duplikat dari tabel.\n",
    "3. Tidak ada nilai yang terlihat janggal dari data.\n",
    "4. Jumlah data adalah **17.379** dengan **17 kolom**."
   ]
  },
  {
   "cell_type": "markdown",
   "metadata": {
    "id": "EhN5R4hr8DC1"
   },
   "source": [
    "### Cleaning Data"
   ]
  },
  {
   "cell_type": "markdown",
   "metadata": {},
   "source": [
    "Pada tahap pembersihan data, akan dilakukan beberapa proses:\n",
    "1. Mengganti nama beberapa kolom sehingga lebih mudah dibaca\n",
    "2. Mengganti tipe data pada beberapa kolom\n",
    "3. Menghapus kolom yang tidak akan digunakan untuk menjawab pertanyaan yang sebelumnya telah dibuat\n",
    "\n",
    "Karena kedua tabel memiliki atribut yang hampir keseluruhan sama, maka akan dibuat sebuah fungsi untuk menangani proses pembersihan."
   ]
  },
  {
   "cell_type": "code",
   "execution_count": 10,
   "metadata": {
    "id": "jVnYpprE9Evz"
   },
   "outputs": [],
   "source": [
    "def cleaning(df):\n",
    "    # Mengganti nama kolom\n",
    "    df.rename(columns={\n",
    "        'dteday': 'date',\n",
    "        'yr': 'year',\n",
    "        'hr': 'hour',\n",
    "        'mnth': 'month',\n",
    "        'weekday': 'day',\n",
    "        'weathersit': 'weather',\n",
    "        'cnt': 'total'\n",
    "    }, inplace=True)\n",
    "\n",
    "    # Mengubah tipe data kolom `date`\n",
    "    df['date'] = pd.to_datetime(df['date'])\n",
    "\n",
    "    # Mengubah tipe data kolom `season`, `year`, `month`, `holiday`, `day`, `workingday`, dan `weather`\n",
    "    df['season'] = df['season'].map({\n",
    "        1: 'Spring', 2: 'Summer', 3: 'Fall', 4: 'Winter'\n",
    "    })\n",
    "\n",
    "    df['year'] = df['year'].map({\n",
    "        0: '2011', 1: '2012'\n",
    "    })\n",
    "\n",
    "    df['month'] = df['month'].map({\n",
    "        1: 'Jan', 2: 'Feb', 3: 'Mar', 4: 'Apr', 5: 'May', 6: 'Jun',\n",
    "        7: 'Jul', 8: 'Aug', 9: 'Sep', 10: 'Oct', 11: 'Nov', 12: 'Dec'\n",
    "    })\n",
    "\n",
    "    df['day'] = df['day'].map({\n",
    "        0: 'Sun', 1: 'Mon', 2: 'Tue', 3: 'Wed', 4: 'Thu', 5: 'Fri', 6: 'Sat'\n",
    "    })\n",
    "\n",
    "    df['workingday'] = df['workingday'].map({\n",
    "        0: 'Weekend/Holiday', 1: 'Working Day'\n",
    "    })\n",
    "\n",
    "    df['weather'] = df['weather'].map({\n",
    "        1: 'Clear', 2: 'Cloudy', 3: 'Light Snow/Rain', 4: 'Heavy Snow/Rain'\n",
    "    })\n",
    "\n",
    "    columns_convert = ['season', 'year', 'month', 'day', 'workingday', 'weather']\n",
    "    for col in columns_convert:\n",
    "        df[col] = df[col].astype('category')\n",
    "\n",
    "    # Menghapus kolom `instant`, `holiday`, `temp`, `atemp`, `hum`, dan `windspeed`\n",
    "    columns_delete = ['instant', 'holiday', 'temp', 'atemp', 'hum', 'windspeed']\n",
    "    for col in columns_delete:\n",
    "        del(df[col])\n",
    "    \n",
    "    print(\"Cleaning completed.\")\n",
    "    "
   ]
  },
  {
   "cell_type": "code",
   "execution_count": 11,
   "metadata": {},
   "outputs": [
    {
     "name": "stdout",
     "output_type": "stream",
     "text": [
      "Cleaning completed.\n"
     ]
    },
    {
     "data": {
      "text/html": [
       "<div>\n",
       "<style scoped>\n",
       "    .dataframe tbody tr th:only-of-type {\n",
       "        vertical-align: middle;\n",
       "    }\n",
       "\n",
       "    .dataframe tbody tr th {\n",
       "        vertical-align: top;\n",
       "    }\n",
       "\n",
       "    .dataframe thead th {\n",
       "        text-align: right;\n",
       "    }\n",
       "</style>\n",
       "<table border=\"1\" class=\"dataframe\">\n",
       "  <thead>\n",
       "    <tr style=\"text-align: right;\">\n",
       "      <th></th>\n",
       "      <th>date</th>\n",
       "      <th>season</th>\n",
       "      <th>year</th>\n",
       "      <th>month</th>\n",
       "      <th>day</th>\n",
       "      <th>workingday</th>\n",
       "      <th>weather</th>\n",
       "      <th>casual</th>\n",
       "      <th>registered</th>\n",
       "      <th>total</th>\n",
       "    </tr>\n",
       "  </thead>\n",
       "  <tbody>\n",
       "    <tr>\n",
       "      <th>0</th>\n",
       "      <td>2011-01-01</td>\n",
       "      <td>Spring</td>\n",
       "      <td>2011</td>\n",
       "      <td>Jan</td>\n",
       "      <td>Sat</td>\n",
       "      <td>Weekend/Holiday</td>\n",
       "      <td>Cloudy</td>\n",
       "      <td>331</td>\n",
       "      <td>654</td>\n",
       "      <td>985</td>\n",
       "    </tr>\n",
       "    <tr>\n",
       "      <th>1</th>\n",
       "      <td>2011-01-02</td>\n",
       "      <td>Spring</td>\n",
       "      <td>2011</td>\n",
       "      <td>Jan</td>\n",
       "      <td>Sun</td>\n",
       "      <td>Weekend/Holiday</td>\n",
       "      <td>Cloudy</td>\n",
       "      <td>131</td>\n",
       "      <td>670</td>\n",
       "      <td>801</td>\n",
       "    </tr>\n",
       "    <tr>\n",
       "      <th>2</th>\n",
       "      <td>2011-01-03</td>\n",
       "      <td>Spring</td>\n",
       "      <td>2011</td>\n",
       "      <td>Jan</td>\n",
       "      <td>Mon</td>\n",
       "      <td>Working Day</td>\n",
       "      <td>Clear</td>\n",
       "      <td>120</td>\n",
       "      <td>1229</td>\n",
       "      <td>1349</td>\n",
       "    </tr>\n",
       "    <tr>\n",
       "      <th>3</th>\n",
       "      <td>2011-01-04</td>\n",
       "      <td>Spring</td>\n",
       "      <td>2011</td>\n",
       "      <td>Jan</td>\n",
       "      <td>Tue</td>\n",
       "      <td>Working Day</td>\n",
       "      <td>Clear</td>\n",
       "      <td>108</td>\n",
       "      <td>1454</td>\n",
       "      <td>1562</td>\n",
       "    </tr>\n",
       "    <tr>\n",
       "      <th>4</th>\n",
       "      <td>2011-01-05</td>\n",
       "      <td>Spring</td>\n",
       "      <td>2011</td>\n",
       "      <td>Jan</td>\n",
       "      <td>Wed</td>\n",
       "      <td>Working Day</td>\n",
       "      <td>Clear</td>\n",
       "      <td>82</td>\n",
       "      <td>1518</td>\n",
       "      <td>1600</td>\n",
       "    </tr>\n",
       "  </tbody>\n",
       "</table>\n",
       "</div>"
      ],
      "text/plain": [
       "        date  season  year month  day       workingday weather  casual  \\\n",
       "0 2011-01-01  Spring  2011   Jan  Sat  Weekend/Holiday  Cloudy     331   \n",
       "1 2011-01-02  Spring  2011   Jan  Sun  Weekend/Holiday  Cloudy     131   \n",
       "2 2011-01-03  Spring  2011   Jan  Mon      Working Day   Clear     120   \n",
       "3 2011-01-04  Spring  2011   Jan  Tue      Working Day   Clear     108   \n",
       "4 2011-01-05  Spring  2011   Jan  Wed      Working Day   Clear      82   \n",
       "\n",
       "   registered  total  \n",
       "0         654    985  \n",
       "1         670    801  \n",
       "2        1229   1349  \n",
       "3        1454   1562  \n",
       "4        1518   1600  "
      ]
     },
     "execution_count": 11,
     "metadata": {},
     "output_type": "execute_result"
    }
   ],
   "source": [
    "# Membersihkan tabel `day_df`\n",
    "cleaning(day_df)\n",
    "day_df.head()"
   ]
  },
  {
   "cell_type": "code",
   "execution_count": 12,
   "metadata": {},
   "outputs": [
    {
     "name": "stdout",
     "output_type": "stream",
     "text": [
      "Cleaning completed.\n"
     ]
    },
    {
     "data": {
      "text/html": [
       "<div>\n",
       "<style scoped>\n",
       "    .dataframe tbody tr th:only-of-type {\n",
       "        vertical-align: middle;\n",
       "    }\n",
       "\n",
       "    .dataframe tbody tr th {\n",
       "        vertical-align: top;\n",
       "    }\n",
       "\n",
       "    .dataframe thead th {\n",
       "        text-align: right;\n",
       "    }\n",
       "</style>\n",
       "<table border=\"1\" class=\"dataframe\">\n",
       "  <thead>\n",
       "    <tr style=\"text-align: right;\">\n",
       "      <th></th>\n",
       "      <th>date</th>\n",
       "      <th>season</th>\n",
       "      <th>year</th>\n",
       "      <th>month</th>\n",
       "      <th>hour</th>\n",
       "      <th>day</th>\n",
       "      <th>workingday</th>\n",
       "      <th>weather</th>\n",
       "      <th>casual</th>\n",
       "      <th>registered</th>\n",
       "      <th>total</th>\n",
       "    </tr>\n",
       "  </thead>\n",
       "  <tbody>\n",
       "    <tr>\n",
       "      <th>0</th>\n",
       "      <td>2011-01-01</td>\n",
       "      <td>Spring</td>\n",
       "      <td>2011</td>\n",
       "      <td>Jan</td>\n",
       "      <td>0</td>\n",
       "      <td>Sat</td>\n",
       "      <td>Weekend/Holiday</td>\n",
       "      <td>Clear</td>\n",
       "      <td>3</td>\n",
       "      <td>13</td>\n",
       "      <td>16</td>\n",
       "    </tr>\n",
       "    <tr>\n",
       "      <th>1</th>\n",
       "      <td>2011-01-01</td>\n",
       "      <td>Spring</td>\n",
       "      <td>2011</td>\n",
       "      <td>Jan</td>\n",
       "      <td>1</td>\n",
       "      <td>Sat</td>\n",
       "      <td>Weekend/Holiday</td>\n",
       "      <td>Clear</td>\n",
       "      <td>8</td>\n",
       "      <td>32</td>\n",
       "      <td>40</td>\n",
       "    </tr>\n",
       "    <tr>\n",
       "      <th>2</th>\n",
       "      <td>2011-01-01</td>\n",
       "      <td>Spring</td>\n",
       "      <td>2011</td>\n",
       "      <td>Jan</td>\n",
       "      <td>2</td>\n",
       "      <td>Sat</td>\n",
       "      <td>Weekend/Holiday</td>\n",
       "      <td>Clear</td>\n",
       "      <td>5</td>\n",
       "      <td>27</td>\n",
       "      <td>32</td>\n",
       "    </tr>\n",
       "    <tr>\n",
       "      <th>3</th>\n",
       "      <td>2011-01-01</td>\n",
       "      <td>Spring</td>\n",
       "      <td>2011</td>\n",
       "      <td>Jan</td>\n",
       "      <td>3</td>\n",
       "      <td>Sat</td>\n",
       "      <td>Weekend/Holiday</td>\n",
       "      <td>Clear</td>\n",
       "      <td>3</td>\n",
       "      <td>10</td>\n",
       "      <td>13</td>\n",
       "    </tr>\n",
       "    <tr>\n",
       "      <th>4</th>\n",
       "      <td>2011-01-01</td>\n",
       "      <td>Spring</td>\n",
       "      <td>2011</td>\n",
       "      <td>Jan</td>\n",
       "      <td>4</td>\n",
       "      <td>Sat</td>\n",
       "      <td>Weekend/Holiday</td>\n",
       "      <td>Clear</td>\n",
       "      <td>0</td>\n",
       "      <td>1</td>\n",
       "      <td>1</td>\n",
       "    </tr>\n",
       "  </tbody>\n",
       "</table>\n",
       "</div>"
      ],
      "text/plain": [
       "        date  season  year month  hour  day       workingday weather  casual  \\\n",
       "0 2011-01-01  Spring  2011   Jan     0  Sat  Weekend/Holiday   Clear       3   \n",
       "1 2011-01-01  Spring  2011   Jan     1  Sat  Weekend/Holiday   Clear       8   \n",
       "2 2011-01-01  Spring  2011   Jan     2  Sat  Weekend/Holiday   Clear       5   \n",
       "3 2011-01-01  Spring  2011   Jan     3  Sat  Weekend/Holiday   Clear       3   \n",
       "4 2011-01-01  Spring  2011   Jan     4  Sat  Weekend/Holiday   Clear       0   \n",
       "\n",
       "   registered  total  \n",
       "0          13     16  \n",
       "1          32     40  \n",
       "2          27     32  \n",
       "3          10     13  \n",
       "4           1      1  "
      ]
     },
     "execution_count": 12,
     "metadata": {},
     "output_type": "execute_result"
    }
   ],
   "source": [
    "# Membersihkan tabel `hour_df`\n",
    "cleaning(hour_df)\n",
    "hour_df.head()"
   ]
  },
  {
   "cell_type": "code",
   "execution_count": 13,
   "metadata": {},
   "outputs": [],
   "source": [
    "# Menyimpan data yang sudah dibersihkan sebagai file .csv\n",
    "day_df.to_csv(\"day.csv\", index=False)\n",
    "hour_df.to_csv(\"hour.csv\", index=False)"
   ]
  },
  {
   "cell_type": "markdown",
   "metadata": {
    "id": "gp-Y6wU38DC1"
   },
   "source": [
    "## Exploratory Data Analysis (EDA)"
   ]
  },
  {
   "cell_type": "markdown",
   "metadata": {},
   "source": [
    "Setelah melakukan data wrangling, proses selanjutnya adalah Exploratory Data Analysis (EDA).<br>\n",
    "Pada tahap ini, data akan dieksplorasi untuk menjawab pertanyaan yang telah didefinisikan."
   ]
  },
  {
   "cell_type": "markdown",
   "metadata": {
    "id": "MW7WF2kr8DC1"
   },
   "source": [
    "### Explore `day_df`"
   ]
  },
  {
   "cell_type": "code",
   "execution_count": 14,
   "metadata": {},
   "outputs": [
    {
     "data": {
      "text/html": [
       "<div>\n",
       "<style scoped>\n",
       "    .dataframe tbody tr th:only-of-type {\n",
       "        vertical-align: middle;\n",
       "    }\n",
       "\n",
       "    .dataframe tbody tr th {\n",
       "        vertical-align: top;\n",
       "    }\n",
       "\n",
       "    .dataframe thead th {\n",
       "        text-align: right;\n",
       "    }\n",
       "</style>\n",
       "<table border=\"1\" class=\"dataframe\">\n",
       "  <thead>\n",
       "    <tr style=\"text-align: right;\">\n",
       "      <th></th>\n",
       "      <th>date</th>\n",
       "      <th>season</th>\n",
       "      <th>year</th>\n",
       "      <th>month</th>\n",
       "      <th>day</th>\n",
       "      <th>workingday</th>\n",
       "      <th>weather</th>\n",
       "      <th>casual</th>\n",
       "      <th>registered</th>\n",
       "      <th>total</th>\n",
       "    </tr>\n",
       "  </thead>\n",
       "  <tbody>\n",
       "    <tr>\n",
       "      <th>count</th>\n",
       "      <td>731</td>\n",
       "      <td>731</td>\n",
       "      <td>731</td>\n",
       "      <td>731</td>\n",
       "      <td>731</td>\n",
       "      <td>731</td>\n",
       "      <td>731</td>\n",
       "      <td>731.000000</td>\n",
       "      <td>731.000000</td>\n",
       "      <td>731.000000</td>\n",
       "    </tr>\n",
       "    <tr>\n",
       "      <th>unique</th>\n",
       "      <td>NaN</td>\n",
       "      <td>4</td>\n",
       "      <td>2</td>\n",
       "      <td>12</td>\n",
       "      <td>7</td>\n",
       "      <td>2</td>\n",
       "      <td>3</td>\n",
       "      <td>NaN</td>\n",
       "      <td>NaN</td>\n",
       "      <td>NaN</td>\n",
       "    </tr>\n",
       "    <tr>\n",
       "      <th>top</th>\n",
       "      <td>NaN</td>\n",
       "      <td>Fall</td>\n",
       "      <td>2012</td>\n",
       "      <td>Aug</td>\n",
       "      <td>Mon</td>\n",
       "      <td>Working Day</td>\n",
       "      <td>Clear</td>\n",
       "      <td>NaN</td>\n",
       "      <td>NaN</td>\n",
       "      <td>NaN</td>\n",
       "    </tr>\n",
       "    <tr>\n",
       "      <th>freq</th>\n",
       "      <td>NaN</td>\n",
       "      <td>188</td>\n",
       "      <td>366</td>\n",
       "      <td>62</td>\n",
       "      <td>105</td>\n",
       "      <td>500</td>\n",
       "      <td>463</td>\n",
       "      <td>NaN</td>\n",
       "      <td>NaN</td>\n",
       "      <td>NaN</td>\n",
       "    </tr>\n",
       "    <tr>\n",
       "      <th>mean</th>\n",
       "      <td>2012-01-01 00:00:00</td>\n",
       "      <td>NaN</td>\n",
       "      <td>NaN</td>\n",
       "      <td>NaN</td>\n",
       "      <td>NaN</td>\n",
       "      <td>NaN</td>\n",
       "      <td>NaN</td>\n",
       "      <td>848.176471</td>\n",
       "      <td>3656.172367</td>\n",
       "      <td>4504.348837</td>\n",
       "    </tr>\n",
       "    <tr>\n",
       "      <th>min</th>\n",
       "      <td>2011-01-01 00:00:00</td>\n",
       "      <td>NaN</td>\n",
       "      <td>NaN</td>\n",
       "      <td>NaN</td>\n",
       "      <td>NaN</td>\n",
       "      <td>NaN</td>\n",
       "      <td>NaN</td>\n",
       "      <td>2.000000</td>\n",
       "      <td>20.000000</td>\n",
       "      <td>22.000000</td>\n",
       "    </tr>\n",
       "    <tr>\n",
       "      <th>25%</th>\n",
       "      <td>2011-07-02 12:00:00</td>\n",
       "      <td>NaN</td>\n",
       "      <td>NaN</td>\n",
       "      <td>NaN</td>\n",
       "      <td>NaN</td>\n",
       "      <td>NaN</td>\n",
       "      <td>NaN</td>\n",
       "      <td>315.500000</td>\n",
       "      <td>2497.000000</td>\n",
       "      <td>3152.000000</td>\n",
       "    </tr>\n",
       "    <tr>\n",
       "      <th>50%</th>\n",
       "      <td>2012-01-01 00:00:00</td>\n",
       "      <td>NaN</td>\n",
       "      <td>NaN</td>\n",
       "      <td>NaN</td>\n",
       "      <td>NaN</td>\n",
       "      <td>NaN</td>\n",
       "      <td>NaN</td>\n",
       "      <td>713.000000</td>\n",
       "      <td>3662.000000</td>\n",
       "      <td>4548.000000</td>\n",
       "    </tr>\n",
       "    <tr>\n",
       "      <th>75%</th>\n",
       "      <td>2012-07-01 12:00:00</td>\n",
       "      <td>NaN</td>\n",
       "      <td>NaN</td>\n",
       "      <td>NaN</td>\n",
       "      <td>NaN</td>\n",
       "      <td>NaN</td>\n",
       "      <td>NaN</td>\n",
       "      <td>1096.000000</td>\n",
       "      <td>4776.500000</td>\n",
       "      <td>5956.000000</td>\n",
       "    </tr>\n",
       "    <tr>\n",
       "      <th>max</th>\n",
       "      <td>2012-12-31 00:00:00</td>\n",
       "      <td>NaN</td>\n",
       "      <td>NaN</td>\n",
       "      <td>NaN</td>\n",
       "      <td>NaN</td>\n",
       "      <td>NaN</td>\n",
       "      <td>NaN</td>\n",
       "      <td>3410.000000</td>\n",
       "      <td>6946.000000</td>\n",
       "      <td>8714.000000</td>\n",
       "    </tr>\n",
       "    <tr>\n",
       "      <th>std</th>\n",
       "      <td>NaN</td>\n",
       "      <td>NaN</td>\n",
       "      <td>NaN</td>\n",
       "      <td>NaN</td>\n",
       "      <td>NaN</td>\n",
       "      <td>NaN</td>\n",
       "      <td>NaN</td>\n",
       "      <td>686.622488</td>\n",
       "      <td>1560.256377</td>\n",
       "      <td>1937.211452</td>\n",
       "    </tr>\n",
       "  </tbody>\n",
       "</table>\n",
       "</div>"
      ],
      "text/plain": [
       "                       date season  year month  day   workingday weather  \\\n",
       "count                   731    731   731   731  731          731     731   \n",
       "unique                  NaN      4     2    12    7            2       3   \n",
       "top                     NaN   Fall  2012   Aug  Mon  Working Day   Clear   \n",
       "freq                    NaN    188   366    62  105          500     463   \n",
       "mean    2012-01-01 00:00:00    NaN   NaN   NaN  NaN          NaN     NaN   \n",
       "min     2011-01-01 00:00:00    NaN   NaN   NaN  NaN          NaN     NaN   \n",
       "25%     2011-07-02 12:00:00    NaN   NaN   NaN  NaN          NaN     NaN   \n",
       "50%     2012-01-01 00:00:00    NaN   NaN   NaN  NaN          NaN     NaN   \n",
       "75%     2012-07-01 12:00:00    NaN   NaN   NaN  NaN          NaN     NaN   \n",
       "max     2012-12-31 00:00:00    NaN   NaN   NaN  NaN          NaN     NaN   \n",
       "std                     NaN    NaN   NaN   NaN  NaN          NaN     NaN   \n",
       "\n",
       "             casual   registered        total  \n",
       "count    731.000000   731.000000   731.000000  \n",
       "unique          NaN          NaN          NaN  \n",
       "top             NaN          NaN          NaN  \n",
       "freq            NaN          NaN          NaN  \n",
       "mean     848.176471  3656.172367  4504.348837  \n",
       "min        2.000000    20.000000    22.000000  \n",
       "25%      315.500000  2497.000000  3152.000000  \n",
       "50%      713.000000  3662.000000  4548.000000  \n",
       "75%     1096.000000  4776.500000  5956.000000  \n",
       "max     3410.000000  6946.000000  8714.000000  \n",
       "std      686.622488  1560.256377  1937.211452  "
      ]
     },
     "execution_count": 14,
     "metadata": {},
     "output_type": "execute_result"
    }
   ],
   "source": [
    "# Melihat parameter statistik `day_df`\n",
    "day_df.describe(include=\"all\")"
   ]
  },
  {
   "cell_type": "markdown",
   "metadata": {},
   "source": [
    "**- Insight -**\n",
    "<br>Berdasarkan rangkuman parameter statistik di atas, diketahui bahwa selama periode 2011-2012:\n",
    "1. Jumlah penggunaan terbanyak dalam satu hari adalah **8714** dan terkecil adalah **22.**\n",
    "2. Jumlah pengguna tidak tetap (casual) terbanyak dalam satu hari adalah **3410 pengguna** dan terkecil adalah **2 pengguna.**\n",
    "3. Jumlah pengguna regular (registered) terbanyak dalam satu hari adalah **6946 pengguna** dan terkecil adalah **20 pengguna.**\n",
    "5. Rata-rata penggunaan layanan dalam satu harinya adalah **4504** dengan rata-rata **848 pengguna tidak tetap (casual)** dan **3656 pengguna terdaftar.**"
   ]
  },
  {
   "cell_type": "code",
   "execution_count": 15,
   "metadata": {},
   "outputs": [
    {
     "name": "stdout",
     "output_type": "stream",
     "text": [
      "Jumlah Pengguna Tiap Tahun\n",
      "      casual  registered    total\n",
      "year                             \n",
      "2011  247252      995851  1243103\n",
      "2012  372765     1676811  2049576\n",
      "\n",
      "Rata-rata Pengguna Tiap Tahun\n",
      "           casual   registered        total\n",
      "year                                       \n",
      "2011   677.402740  2728.358904  3405.761644\n",
      "2012  1018.483607  4581.450820  5599.934426\n"
     ]
    }
   ],
   "source": [
    "# Penggunaan tiap tahun\n",
    "print(\"Jumlah Pengguna Tiap Tahun\")\n",
    "print(day_df.groupby(\"year\", observed=True).agg({\n",
    "    'casual': 'sum',\n",
    "    'registered': 'sum',\n",
    "    'total': 'sum'\n",
    "}))\n",
    "\n",
    "print(\"\\nRata-rata Pengguna Tiap Tahun\")\n",
    "print(day_df.groupby(\"year\", observed=True).agg({\n",
    "    'casual': 'mean',\n",
    "    'registered': 'mean',\n",
    "    'total': 'mean'\n",
    "}))"
   ]
  },
  {
   "cell_type": "markdown",
   "metadata": {},
   "source": [
    "**- Insight -**\n",
    "<br>Dapat dilihat bahwa terdapat **peningkatan jumlah penggunaan dan jumlah pengguna** baik pengguna *casual* maupun *registered* dari tahun 2011 ke 2012."
   ]
  },
  {
   "cell_type": "code",
   "execution_count": 16,
   "metadata": {},
   "outputs": [
    {
     "name": "stdout",
     "output_type": "stream",
     "text": [
      "Jumlah Penggunaan Weekend/Holiday vs Working Day\n"
     ]
    },
    {
     "data": {
      "text/html": [
       "<div>\n",
       "<style scoped>\n",
       "    .dataframe tbody tr th:only-of-type {\n",
       "        vertical-align: middle;\n",
       "    }\n",
       "\n",
       "    .dataframe tbody tr th {\n",
       "        vertical-align: top;\n",
       "    }\n",
       "\n",
       "    .dataframe thead th {\n",
       "        text-align: right;\n",
       "    }\n",
       "</style>\n",
       "<table border=\"1\" class=\"dataframe\">\n",
       "  <thead>\n",
       "    <tr style=\"text-align: right;\">\n",
       "      <th></th>\n",
       "      <th>casual</th>\n",
       "      <th>registered</th>\n",
       "      <th>total</th>\n",
       "    </tr>\n",
       "    <tr>\n",
       "      <th>workingday</th>\n",
       "      <th></th>\n",
       "      <th></th>\n",
       "      <th></th>\n",
       "    </tr>\n",
       "  </thead>\n",
       "  <tbody>\n",
       "    <tr>\n",
       "      <th>Weekend/Holiday</th>\n",
       "      <td>1371.134199</td>\n",
       "      <td>2959.034632</td>\n",
       "      <td>4330.168831</td>\n",
       "    </tr>\n",
       "    <tr>\n",
       "      <th>Working Day</th>\n",
       "      <td>606.570000</td>\n",
       "      <td>3978.250000</td>\n",
       "      <td>4584.820000</td>\n",
       "    </tr>\n",
       "  </tbody>\n",
       "</table>\n",
       "</div>"
      ],
      "text/plain": [
       "                      casual   registered        total\n",
       "workingday                                            \n",
       "Weekend/Holiday  1371.134199  2959.034632  4330.168831\n",
       "Working Day       606.570000  3978.250000  4584.820000"
      ]
     },
     "execution_count": 16,
     "metadata": {},
     "output_type": "execute_result"
    }
   ],
   "source": [
    "# Penggunaan berdasarkan kategori Working Day\n",
    "print(\"Jumlah Penggunaan Weekend/Holiday vs Working Day\")\n",
    "day_df.groupby(\"workingday\", observed=True).agg({\n",
    "    'casual': 'mean',\n",
    "    'registered': 'mean',\n",
    "    'total': 'mean'\n",
    "})"
   ]
  },
  {
   "cell_type": "markdown",
   "metadata": {},
   "source": [
    "**- Insight -**\n",
    "<br>Jika dilihat pada pivot table ini, terdapat **perbedaan** penggunaan layanan dari pengguna *casual* dan *registered*.\n",
    "- Pengguna *casual* lebih sering menggunakan layanan pada weekend/holiday.\n",
    "- Pengguna *registered* cenderung lebih sering menggunakan layanan pada working day.\n",
    "- Sementara itu, rata-rata penggunaan paling banyak adalah pada working day."
   ]
  },
  {
   "cell_type": "code",
   "execution_count": 17,
   "metadata": {},
   "outputs": [
    {
     "name": "stdout",
     "output_type": "stream",
     "text": [
      "Jumlah Penggunaan Berdasarkan Hari\n"
     ]
    },
    {
     "data": {
      "text/html": [
       "<div>\n",
       "<style scoped>\n",
       "    .dataframe tbody tr th:only-of-type {\n",
       "        vertical-align: middle;\n",
       "    }\n",
       "\n",
       "    .dataframe tbody tr th {\n",
       "        vertical-align: top;\n",
       "    }\n",
       "\n",
       "    .dataframe thead tr th {\n",
       "        text-align: left;\n",
       "    }\n",
       "\n",
       "    .dataframe thead tr:last-of-type th {\n",
       "        text-align: right;\n",
       "    }\n",
       "</style>\n",
       "<table border=\"1\" class=\"dataframe\">\n",
       "  <thead>\n",
       "    <tr>\n",
       "      <th></th>\n",
       "      <th>casual</th>\n",
       "      <th>registered</th>\n",
       "      <th colspan=\"2\" halign=\"left\">total</th>\n",
       "    </tr>\n",
       "    <tr>\n",
       "      <th></th>\n",
       "      <th>mean</th>\n",
       "      <th>mean</th>\n",
       "      <th>mean</th>\n",
       "      <th>sum</th>\n",
       "    </tr>\n",
       "    <tr>\n",
       "      <th>day</th>\n",
       "      <th></th>\n",
       "      <th></th>\n",
       "      <th></th>\n",
       "      <th></th>\n",
       "    </tr>\n",
       "  </thead>\n",
       "  <tbody>\n",
       "    <tr>\n",
       "      <th>Fri</th>\n",
       "      <td>752.288462</td>\n",
       "      <td>3938.000000</td>\n",
       "      <td>4690.288462</td>\n",
       "      <td>487790</td>\n",
       "    </tr>\n",
       "    <tr>\n",
       "      <th>Mon</th>\n",
       "      <td>674.133333</td>\n",
       "      <td>3663.990476</td>\n",
       "      <td>4338.123810</td>\n",
       "      <td>455503</td>\n",
       "    </tr>\n",
       "    <tr>\n",
       "      <th>Sat</th>\n",
       "      <td>1465.257143</td>\n",
       "      <td>3085.285714</td>\n",
       "      <td>4550.542857</td>\n",
       "      <td>477807</td>\n",
       "    </tr>\n",
       "    <tr>\n",
       "      <th>Sun</th>\n",
       "      <td>1338.295238</td>\n",
       "      <td>2890.533333</td>\n",
       "      <td>4228.828571</td>\n",
       "      <td>444027</td>\n",
       "    </tr>\n",
       "    <tr>\n",
       "      <th>Thu</th>\n",
       "      <td>590.961538</td>\n",
       "      <td>4076.298077</td>\n",
       "      <td>4667.259615</td>\n",
       "      <td>485395</td>\n",
       "    </tr>\n",
       "    <tr>\n",
       "      <th>Tue</th>\n",
       "      <td>556.182692</td>\n",
       "      <td>3954.480769</td>\n",
       "      <td>4510.663462</td>\n",
       "      <td>469109</td>\n",
       "    </tr>\n",
       "    <tr>\n",
       "      <th>Wed</th>\n",
       "      <td>551.144231</td>\n",
       "      <td>3997.394231</td>\n",
       "      <td>4548.538462</td>\n",
       "      <td>473048</td>\n",
       "    </tr>\n",
       "  </tbody>\n",
       "</table>\n",
       "</div>"
      ],
      "text/plain": [
       "          casual   registered        total        \n",
       "            mean         mean         mean     sum\n",
       "day                                               \n",
       "Fri   752.288462  3938.000000  4690.288462  487790\n",
       "Mon   674.133333  3663.990476  4338.123810  455503\n",
       "Sat  1465.257143  3085.285714  4550.542857  477807\n",
       "Sun  1338.295238  2890.533333  4228.828571  444027\n",
       "Thu   590.961538  4076.298077  4667.259615  485395\n",
       "Tue   556.182692  3954.480769  4510.663462  469109\n",
       "Wed   551.144231  3997.394231  4548.538462  473048"
      ]
     },
     "execution_count": 17,
     "metadata": {},
     "output_type": "execute_result"
    }
   ],
   "source": [
    "# Penggunaan berdasarkan kategori Day\n",
    "print(\"Jumlah Penggunaan Berdasarkan Hari\")\n",
    "day_df.groupby(\"day\", observed=True).agg({\n",
    "    'casual': 'mean',\n",
    "    'registered': 'mean',\n",
    "    'total': ['mean', 'sum']\n",
    "})"
   ]
  },
  {
   "cell_type": "markdown",
   "metadata": {},
   "source": [
    "**- Insight -**\n",
    "<br>Berdasarkan pivot table di atas, diketahui bahwa:\n",
    "1. Jumlah penggunaan setiap harinya terlihat merata\n",
    "2. Pengguna *casual* lebih banyak menyewa sepeda di hari Sabtu dan Minggu.\n",
    "3. Pengguna *registered* lebih banyak menyewa sepeda di hari kerja (Senin - Jum'at), terutama di hari Kamis."
   ]
  },
  {
   "cell_type": "code",
   "execution_count": 18,
   "metadata": {},
   "outputs": [
    {
     "data": {
      "text/plain": [
       "season\n",
       "Fall      5644.303191\n",
       "Summer    4992.331522\n",
       "Winter    4728.162921\n",
       "Spring    2604.132597\n",
       "Name: total, dtype: float64"
      ]
     },
     "execution_count": 18,
     "metadata": {},
     "output_type": "execute_result"
    }
   ],
   "source": [
    "# Melihat total Penggunaan di setiap musim\n",
    "day_df.groupby(\"season\", observed=True).total.mean().sort_values(ascending=False)"
   ]
  },
  {
   "cell_type": "markdown",
   "metadata": {},
   "source": [
    "**- Insight -**\n",
    "<br>Dapat dilihat bahwa rata-rata pemakaian harian di musim **Fall** adalah yang **terbanyak** dan **Spring** adalah yang **paling sedikit.**"
   ]
  },
  {
   "cell_type": "markdown",
   "metadata": {},
   "source": [
    "### Explore `hour_df`"
   ]
  },
  {
   "cell_type": "code",
   "execution_count": 19,
   "metadata": {},
   "outputs": [
    {
     "data": {
      "text/html": [
       "<div>\n",
       "<style scoped>\n",
       "    .dataframe tbody tr th:only-of-type {\n",
       "        vertical-align: middle;\n",
       "    }\n",
       "\n",
       "    .dataframe tbody tr th {\n",
       "        vertical-align: top;\n",
       "    }\n",
       "\n",
       "    .dataframe thead th {\n",
       "        text-align: right;\n",
       "    }\n",
       "</style>\n",
       "<table border=\"1\" class=\"dataframe\">\n",
       "  <thead>\n",
       "    <tr style=\"text-align: right;\">\n",
       "      <th></th>\n",
       "      <th>date</th>\n",
       "      <th>season</th>\n",
       "      <th>year</th>\n",
       "      <th>month</th>\n",
       "      <th>hour</th>\n",
       "      <th>day</th>\n",
       "      <th>workingday</th>\n",
       "      <th>weather</th>\n",
       "      <th>casual</th>\n",
       "      <th>registered</th>\n",
       "      <th>total</th>\n",
       "    </tr>\n",
       "  </thead>\n",
       "  <tbody>\n",
       "    <tr>\n",
       "      <th>count</th>\n",
       "      <td>17379</td>\n",
       "      <td>17379</td>\n",
       "      <td>17379</td>\n",
       "      <td>17379</td>\n",
       "      <td>17379.000000</td>\n",
       "      <td>17379</td>\n",
       "      <td>17379</td>\n",
       "      <td>17379</td>\n",
       "      <td>17379.000000</td>\n",
       "      <td>17379.000000</td>\n",
       "      <td>17379.000000</td>\n",
       "    </tr>\n",
       "    <tr>\n",
       "      <th>unique</th>\n",
       "      <td>NaN</td>\n",
       "      <td>4</td>\n",
       "      <td>2</td>\n",
       "      <td>12</td>\n",
       "      <td>NaN</td>\n",
       "      <td>7</td>\n",
       "      <td>2</td>\n",
       "      <td>4</td>\n",
       "      <td>NaN</td>\n",
       "      <td>NaN</td>\n",
       "      <td>NaN</td>\n",
       "    </tr>\n",
       "    <tr>\n",
       "      <th>top</th>\n",
       "      <td>NaN</td>\n",
       "      <td>Fall</td>\n",
       "      <td>2012</td>\n",
       "      <td>May</td>\n",
       "      <td>NaN</td>\n",
       "      <td>Sat</td>\n",
       "      <td>Working Day</td>\n",
       "      <td>Clear</td>\n",
       "      <td>NaN</td>\n",
       "      <td>NaN</td>\n",
       "      <td>NaN</td>\n",
       "    </tr>\n",
       "    <tr>\n",
       "      <th>freq</th>\n",
       "      <td>NaN</td>\n",
       "      <td>4496</td>\n",
       "      <td>8734</td>\n",
       "      <td>1488</td>\n",
       "      <td>NaN</td>\n",
       "      <td>2512</td>\n",
       "      <td>11865</td>\n",
       "      <td>11413</td>\n",
       "      <td>NaN</td>\n",
       "      <td>NaN</td>\n",
       "      <td>NaN</td>\n",
       "    </tr>\n",
       "    <tr>\n",
       "      <th>mean</th>\n",
       "      <td>2012-01-02 04:08:34.552045568</td>\n",
       "      <td>NaN</td>\n",
       "      <td>NaN</td>\n",
       "      <td>NaN</td>\n",
       "      <td>11.546752</td>\n",
       "      <td>NaN</td>\n",
       "      <td>NaN</td>\n",
       "      <td>NaN</td>\n",
       "      <td>35.676218</td>\n",
       "      <td>153.786869</td>\n",
       "      <td>189.463088</td>\n",
       "    </tr>\n",
       "    <tr>\n",
       "      <th>min</th>\n",
       "      <td>2011-01-01 00:00:00</td>\n",
       "      <td>NaN</td>\n",
       "      <td>NaN</td>\n",
       "      <td>NaN</td>\n",
       "      <td>0.000000</td>\n",
       "      <td>NaN</td>\n",
       "      <td>NaN</td>\n",
       "      <td>NaN</td>\n",
       "      <td>0.000000</td>\n",
       "      <td>0.000000</td>\n",
       "      <td>1.000000</td>\n",
       "    </tr>\n",
       "    <tr>\n",
       "      <th>25%</th>\n",
       "      <td>2011-07-04 00:00:00</td>\n",
       "      <td>NaN</td>\n",
       "      <td>NaN</td>\n",
       "      <td>NaN</td>\n",
       "      <td>6.000000</td>\n",
       "      <td>NaN</td>\n",
       "      <td>NaN</td>\n",
       "      <td>NaN</td>\n",
       "      <td>4.000000</td>\n",
       "      <td>34.000000</td>\n",
       "      <td>40.000000</td>\n",
       "    </tr>\n",
       "    <tr>\n",
       "      <th>50%</th>\n",
       "      <td>2012-01-02 00:00:00</td>\n",
       "      <td>NaN</td>\n",
       "      <td>NaN</td>\n",
       "      <td>NaN</td>\n",
       "      <td>12.000000</td>\n",
       "      <td>NaN</td>\n",
       "      <td>NaN</td>\n",
       "      <td>NaN</td>\n",
       "      <td>17.000000</td>\n",
       "      <td>115.000000</td>\n",
       "      <td>142.000000</td>\n",
       "    </tr>\n",
       "    <tr>\n",
       "      <th>75%</th>\n",
       "      <td>2012-07-02 00:00:00</td>\n",
       "      <td>NaN</td>\n",
       "      <td>NaN</td>\n",
       "      <td>NaN</td>\n",
       "      <td>18.000000</td>\n",
       "      <td>NaN</td>\n",
       "      <td>NaN</td>\n",
       "      <td>NaN</td>\n",
       "      <td>48.000000</td>\n",
       "      <td>220.000000</td>\n",
       "      <td>281.000000</td>\n",
       "    </tr>\n",
       "    <tr>\n",
       "      <th>max</th>\n",
       "      <td>2012-12-31 00:00:00</td>\n",
       "      <td>NaN</td>\n",
       "      <td>NaN</td>\n",
       "      <td>NaN</td>\n",
       "      <td>23.000000</td>\n",
       "      <td>NaN</td>\n",
       "      <td>NaN</td>\n",
       "      <td>NaN</td>\n",
       "      <td>367.000000</td>\n",
       "      <td>886.000000</td>\n",
       "      <td>977.000000</td>\n",
       "    </tr>\n",
       "    <tr>\n",
       "      <th>std</th>\n",
       "      <td>NaN</td>\n",
       "      <td>NaN</td>\n",
       "      <td>NaN</td>\n",
       "      <td>NaN</td>\n",
       "      <td>6.914405</td>\n",
       "      <td>NaN</td>\n",
       "      <td>NaN</td>\n",
       "      <td>NaN</td>\n",
       "      <td>49.305030</td>\n",
       "      <td>151.357286</td>\n",
       "      <td>181.387599</td>\n",
       "    </tr>\n",
       "  </tbody>\n",
       "</table>\n",
       "</div>"
      ],
      "text/plain": [
       "                                 date season   year  month          hour  \\\n",
       "count                           17379  17379  17379  17379  17379.000000   \n",
       "unique                            NaN      4      2     12           NaN   \n",
       "top                               NaN   Fall   2012    May           NaN   \n",
       "freq                              NaN   4496   8734   1488           NaN   \n",
       "mean    2012-01-02 04:08:34.552045568    NaN    NaN    NaN     11.546752   \n",
       "min               2011-01-01 00:00:00    NaN    NaN    NaN      0.000000   \n",
       "25%               2011-07-04 00:00:00    NaN    NaN    NaN      6.000000   \n",
       "50%               2012-01-02 00:00:00    NaN    NaN    NaN     12.000000   \n",
       "75%               2012-07-02 00:00:00    NaN    NaN    NaN     18.000000   \n",
       "max               2012-12-31 00:00:00    NaN    NaN    NaN     23.000000   \n",
       "std                               NaN    NaN    NaN    NaN      6.914405   \n",
       "\n",
       "          day   workingday weather        casual    registered         total  \n",
       "count   17379        17379   17379  17379.000000  17379.000000  17379.000000  \n",
       "unique      7            2       4           NaN           NaN           NaN  \n",
       "top       Sat  Working Day   Clear           NaN           NaN           NaN  \n",
       "freq     2512        11865   11413           NaN           NaN           NaN  \n",
       "mean      NaN          NaN     NaN     35.676218    153.786869    189.463088  \n",
       "min       NaN          NaN     NaN      0.000000      0.000000      1.000000  \n",
       "25%       NaN          NaN     NaN      4.000000     34.000000     40.000000  \n",
       "50%       NaN          NaN     NaN     17.000000    115.000000    142.000000  \n",
       "75%       NaN          NaN     NaN     48.000000    220.000000    281.000000  \n",
       "max       NaN          NaN     NaN    367.000000    886.000000    977.000000  \n",
       "std       NaN          NaN     NaN     49.305030    151.357286    181.387599  "
      ]
     },
     "execution_count": 19,
     "metadata": {},
     "output_type": "execute_result"
    }
   ],
   "source": [
    "# Melihat parameter statistik `hour_df`\n",
    "hour_df.describe(include=\"all\")"
   ]
  },
  {
   "cell_type": "markdown",
   "metadata": {},
   "source": [
    "**- Insight -**\n",
    "<br>Berdasarkan rangkuman parameter statistik di atas, diketahui bahwa:\n",
    "1. Penggunaan rata-rata dilakukan pada **jam 11 siang.**\n",
    "2. Rata-rata penggunaan adalah **189 sepeda setiap jamnya.**"
   ]
  },
  {
   "cell_type": "code",
   "execution_count": 20,
   "metadata": {},
   "outputs": [
    {
     "name": "stdout",
     "output_type": "stream",
     "text": [
      "Jam dengan penggunaan terbanyak\n",
      "hour\n",
      "17    336860\n",
      "18    309772\n",
      "8     261001\n",
      "16    227748\n",
      "19    226789\n",
      "Name: total, dtype: int64\n",
      "\n",
      "Jam dengan penggunaan paling sedikit\n",
      "hour\n",
      "4     4428\n",
      "3     8174\n",
      "5    14261\n",
      "2    16352\n",
      "1    24164\n",
      "Name: total, dtype: int64\n"
     ]
    }
   ],
   "source": [
    "# Melihat jam dengan penggunaan terbanyak\n",
    "print(\"Jam dengan penggunaan terbanyak\")\n",
    "print(hour_df.groupby(\"hour\", observed=True).total.sum().sort_values(ascending=False).head(5))\n",
    "\n",
    "print(\"\\nJam dengan penggunaan paling sedikit\")\n",
    "print(hour_df.groupby(\"hour\", observed=True).total.sum().sort_values(ascending=True).head(5))"
   ]
  },
  {
   "cell_type": "markdown",
   "metadata": {},
   "source": [
    "**- Insight -**\n",
    "<br>\n",
    "- Jam dengan penggunaan terbanyak adalah pada **pukul 8 pagi** dan **4-7 sore.**\n",
    "- Jam dengan penggunaan paling sedikit adalah pada **pukul 1-5 pagi.**\n"
   ]
  },
  {
   "cell_type": "code",
   "execution_count": 21,
   "metadata": {},
   "outputs": [
    {
     "data": {
      "text/plain": [
       "weather\n",
       "Clear              2338173\n",
       "Cloudy              795952\n",
       "Light Snow/Rain     158331\n",
       "Heavy Snow/Rain        223\n",
       "Name: total, dtype: int64"
      ]
     },
     "execution_count": 21,
     "metadata": {},
     "output_type": "execute_result"
    }
   ],
   "source": [
    "# Melihat total Penggunaan di setiap kondisi cuaca\n",
    "hour_df.groupby(\"weather\", observed=True).total.sum().sort_values(ascending=False)"
   ]
  },
  {
   "cell_type": "markdown",
   "metadata": {},
   "source": [
    "**- Insight -**\n",
    "<br>Penggunaan **terbanyak** adalah pada kondisi cuaca **clear (cerah)** dan **paling sedikit** adalah ketika cuaca **heave snow/rain (ekstrem).**"
   ]
  },
  {
   "cell_type": "markdown",
   "metadata": {
    "id": "zsyZjqak8DC2"
   },
   "source": [
    "## Visualization & Explanatory Analysis"
   ]
  },
  {
   "cell_type": "markdown",
   "metadata": {},
   "source": [
    "Setelah proses EDA, tahap selanjutnya adalah melakukan visualisasi data."
   ]
  },
  {
   "cell_type": "markdown",
   "metadata": {
    "id": "HZxOiQ6n8DC2"
   },
   "source": [
    "### Pertanyaan 1: Bagaimana tren penggunaan layanan *bike sharing* dari tahun 2011-2012?"
   ]
  },
  {
   "cell_type": "code",
   "execution_count": 22,
   "metadata": {},
   "outputs": [
    {
     "data": {
      "image/png": "[encoded data removed]",
      "text/plain": [
       "<Figure size 2500x500 with 1 Axes>"
      ]
     },
     "metadata": {},
     "output_type": "display_data"
    }
   ],
   "source": [
    "# Membuat grafik time-series penggunaan layanan dari tahun 2011-2012\n",
    "monthly_count_df = day_df.resample(rule='ME', on='date').agg({\n",
    "    \"total\": \"sum\"\n",
    "})\n",
    "\n",
    "monthly_count_df.index = monthly_count_df.index.strftime('%b \\'%y')\n",
    "monthly_count_df = monthly_count_df.reset_index()\n",
    "\n",
    "monthly_count_df.head()\n",
    "\n",
    "plt.style.use(\"tableau-colorblind10\")\n",
    "\n",
    "plt.figure(figsize=(25, 5)) \n",
    "\n",
    "plt.plot(\n",
    "    monthly_count_df['date'], \n",
    "    monthly_count_df['total'], \n",
    "    linewidth=2, \n",
    "    marker='o')\n",
    "\n",
    "plt.title(\"Tren Penggunaan Bike Sharing 2011-2012\", loc=\"center\", fontsize=20) \n",
    "plt.xticks(fontsize=10)\n",
    "plt.yticks(fontsize=10)\n",
    "plt.show()"
   ]
  },
  {
   "cell_type": "markdown",
   "metadata": {},
   "source": [
    "**- Insight -**\n",
    "<br>Dari grafik di atas dapat dilihat bahwa tren penggunaan layanan *bike sharing* cenderung meningkat dari tahun 2011-2012 dengan pengunaan tertinggi di bulan September 2012. Meskipun begitu terdapat penurunan penggunaan layanan pada akhir tahun 2012. Namun, pola yang sama terjadi di tahun 2011, yaitu penurunan jumlah pengunaan ketika memasuki akhir tahun."
   ]
  },
  {
   "cell_type": "markdown",
   "metadata": {},
   "source": [
    "### Pertanyaan 2: Pada hari apa sepeda paling banyak dan paling sedikit digunakan?"
   ]
  },
  {
   "cell_type": "code",
   "execution_count": 23,
   "metadata": {},
   "outputs": [
    {
     "name": "stderr",
     "output_type": "stream",
     "text": [
      "C:\\Users\\ystkd\\AppData\\Local\\Temp\\ipykernel_10104\\1529233222.py:10: FutureWarning: \n",
      "\n",
      "Passing `palette` without assigning `hue` is deprecated and will be removed in v0.14.0. Assign the `x` variable to `hue` and set `legend=False` for the same effect.\n",
      "\n",
      "  sns.barplot(\n"
     ]
    },
    {
     "data": {
      "image/png": "[encoded data removed]",
      "text/plain": [
       "<Figure size 1000x500 with 1 Axes>"
      ]
     },
     "metadata": {},
     "output_type": "display_data"
    }
   ],
   "source": [
    "#Membuat grafik penggunaan layanan setiap harinya\n",
    "daily_count_df = day_df.groupby(\"day\", observed=False).total.sum().reset_index()\n",
    "\n",
    "daily_count_df['day'] = pd.Categorical(daily_count_df['day'], ['Sun', 'Mon', 'Tue', 'Wed', 'Thu', 'Fri', 'Sat'])\n",
    "\n",
    "plt.figure(figsize=(10, 5))\n",
    "\n",
    "colors = [\"#CFCFCF\", \"#CFCFCF\", \"#CFCFCF\", \"#CFCFCF\", \"#CFCFCF\", \"#006BA4\", \"#CFCFCF\"]\n",
    "\n",
    "sns.barplot(\n",
    "    y=\"total\", \n",
    "    x=\"day\",\n",
    "    data=daily_count_df.sort_values(by=\"day\"),\n",
    "    palette=colors\n",
    ")\n",
    "plt.title(\"Jumlah Pengguna Berdasarkan Hari\", loc=\"center\", fontsize=15)\n",
    "plt.ylabel(None)\n",
    "plt.xlabel(None)\n",
    "plt.tick_params(axis='x', labelsize=12)\n",
    "plt.show()"
   ]
  },
  {
   "cell_type": "markdown",
   "metadata": {},
   "source": [
    "**- Insight -**\n",
    "<br>Dari grafik tersebut dapat diketahui bahwa jumlah pengguna terbanyak adalah pada hari Jum'at dan paling sedikit pada hari Minggu. Meskipun demikian, perbedaan jumlah pengguna di tiap harinya terlihat tidak begitu signifikan, terutama pada hari Jum'at dan Kamis."
   ]
  },
  {
   "cell_type": "markdown",
   "metadata": {},
   "source": [
    "### Pertanyaan 3: Pada jam berapa sepeda paling banyak dan paling sedikit digunakan?"
   ]
  },
  {
   "cell_type": "code",
   "execution_count": 24,
   "metadata": {},
   "outputs": [
    {
     "name": "stderr",
     "output_type": "stream",
     "text": [
      "C:\\Users\\ystkd\\AppData\\Local\\Temp\\ipykernel_10104\\2082110816.py:4: FutureWarning: A value is trying to be set on a copy of a DataFrame or Series through chained assignment using an inplace method.\n",
      "The behavior will change in pandas 3.0. This inplace method will never work because the intermediate object on which we are setting values always behaves as a copy.\n",
      "\n",
      "For example, when doing 'df[col].method(value, inplace=True)', try using 'df.method({col: value}, inplace=True)' or df[col] = df[col].method(value) instead, to perform the operation inplace on the original object.\n",
      "\n",
      "\n",
      "  hourly_count_df.hour.replace((0,1,2,3,4,5,6,7,8,9,10,11,12,13,14,15,16,17,18,19,20,21,22,23),\n",
      "C:\\Users\\ystkd\\AppData\\Local\\Temp\\ipykernel_10104\\2082110816.py:14: FutureWarning: \n",
      "\n",
      "Passing `palette` without assigning `hue` is deprecated and will be removed in v0.14.0. Assign the `x` variable to `hue` and set `legend=False` for the same effect.\n",
      "\n",
      "  sns.barplot(\n",
      "C:\\Users\\ystkd\\AppData\\Local\\Temp\\ipykernel_10104\\2082110816.py:26: FutureWarning: \n",
      "\n",
      "Passing `palette` without assigning `hue` is deprecated and will be removed in v0.14.0. Assign the `x` variable to `hue` and set `legend=False` for the same effect.\n",
      "\n",
      "  sns.barplot(\n"
     ]
    },
    {
     "data": {
      "image/png": "[encoded data removed]",
      "text/plain": [
       "<Figure size 2400x600 with 2 Axes>"
      ]
     },
     "metadata": {},
     "output_type": "display_data"
    }
   ],
   "source": [
    "# Membuat grafik penggunaan layanan berdasarkan jam\n",
    "hourly_count_df = hour_df.groupby('hour').total.sum().sort_values(ascending=False).reset_index()\n",
    "\n",
    "hourly_count_df.hour.replace((0,1,2,3,4,5,6,7,8,9,10,11,12,13,14,15,16,17,18,19,20,21,22,23),\n",
    "                       ('12 AM', '1 AM', '2 AM', '3 AM', '4 AM', '5 AM',\n",
    "                       '6 AM', '7 AM', '8 AM', '9 AM', '10 AM', '11 AM',\n",
    "                       '12 PM', '1 PM', '2 PM', '3 PM', '4 PM', '5 PM',\n",
    "                       '6 PM', '7 PM', '8 PM', '9 PM', '10 PM', '11 PM'), inplace=True)\n",
    "\n",
    "fig, ax = plt.subplots(nrows=1, ncols=2, figsize=(24, 6))\n",
    "\n",
    "colors = [\"#006BA4\", \"#CFCFCF\", \"#CFCFCF\", \"#CFCFCF\", \"#CFCFCF\"]\n",
    "\n",
    "sns.barplot(\n",
    "    x=\"hour\", \n",
    "    y=\"total\", \n",
    "    data=hourly_count_df.head(5), \n",
    "    palette=[\"#006BA4\", \"#CFCFCF\", \"#CFCFCF\", \"#CFCFCF\", \"#CFCFCF\"],\n",
    "    ax=ax[0])\n",
    "\n",
    "ax[0].set_ylabel(None)\n",
    "ax[0].set_xlabel(\"Waktu\")\n",
    "ax[0].set_title(\"Jam dengan Pengguna Paling Banyak\", loc=\"center\", fontsize=15)\n",
    "ax[0].tick_params(axis ='y', labelsize=12)\n",
    " \n",
    "sns.barplot(\n",
    "    x=\"hour\", \n",
    "    y=\"total\", \n",
    "    data=hourly_count_df.sort_values(by=\"total\", ascending=True).head(5), \n",
    "    palette=[\"#FF800E\", \"#CFCFCF\", \"#CFCFCF\", \"#CFCFCF\", \"#CFCFCF\"], \n",
    "    ax=ax[1])\n",
    "\n",
    "ax[1].set_ylabel(None)\n",
    "ax[1].set_xlabel(\"Waktu\")\n",
    "ax[1].invert_xaxis()\n",
    "ax[1].yaxis.set_label_position(\"right\")\n",
    "ax[1].yaxis.tick_right()\n",
    "ax[1].set_title(\"Jam dengan Pengguna Paling Sedikit\", loc=\"center\", fontsize=15)\n",
    "ax[1].tick_params(axis='y', labelsize=12)\n",
    " \n",
    "plt.suptitle(\"Jam dengan Pengguna Paling Banyak dan Paling Sedikit\", fontsize=20)\n",
    "plt.show()"
   ]
  },
  {
   "cell_type": "markdown",
   "metadata": {},
   "source": [
    "**- Insight -**\n",
    "<br>Sesuai dengan insight yang diperoleh ketika melakukan eksplorasi data, penggunaan paling banyak di jam 5 sore dan paling sedikit di jam 4 pagi."
   ]
  },
  {
   "cell_type": "markdown",
   "metadata": {},
   "source": [
    "### Pertanyaan 4: Pada musim apa sepeda paling banyak dan paling sedikit digunakan?"
   ]
  },
  {
   "cell_type": "code",
   "execution_count": 25,
   "metadata": {
    "scrolled": true
   },
   "outputs": [
    {
     "name": "stderr",
     "output_type": "stream",
     "text": [
      "C:\\Users\\ystkd\\AppData\\Local\\Temp\\ipykernel_10104\\2431492812.py:8: FutureWarning: \n",
      "\n",
      "Passing `palette` without assigning `hue` is deprecated and will be removed in v0.14.0. Assign the `x` variable to `hue` and set `legend=False` for the same effect.\n",
      "\n",
      "  sns.barplot(\n"
     ]
    },
    {
     "data": {
      "image/png": "[encoded data removed]",
      "text/plain": [
       "<Figure size 1000x500 with 1 Axes>"
      ]
     },
     "metadata": {},
     "output_type": "display_data"
    }
   ],
   "source": [
    "#Membuat grafik penggunaan layanan setiap harinya\n",
    "season_count_df = day_df.groupby(\"season\", observed=False).total.mean().reset_index()\n",
    "\n",
    "plt.figure(figsize=(10, 5))\n",
    "\n",
    "colors = [\"#006BA4\", \"#CFCFCF\", \"#CFCFCF\", \"#CFCFCF\"]\n",
    "\n",
    "sns.barplot(\n",
    "    y=\"total\", \n",
    "    x=\"season\",\n",
    "    data=season_count_df,\n",
    "    palette=colors\n",
    ")\n",
    "plt.title(\"Rata-rata Pengguna Berdasarkan Musim\", loc=\"center\", fontsize=15)\n",
    "plt.ylabel(None)\n",
    "plt.xlabel(None)\n",
    "plt.tick_params(axis='x', labelsize=12)\n",
    "plt.gcf().axes[0].yaxis.get_major_formatter().set_scientific(False)\n",
    "plt.show()"
   ]
  },
  {
   "cell_type": "markdown",
   "metadata": {},
   "source": [
    "**- Insight -**\n",
    "<br>Sesuai dengan insight yang diperoleh ketika melakukan eksplorasi data, penggunaan terbanyak adalah ketika Fall dan paling sedikit ketika Spring."
   ]
  },
  {
   "cell_type": "markdown",
   "metadata": {},
   "source": [
    "### Pertanyaan 5: Bagaimana perbedaan penggunaan layanan pada pengguna *casual* dan *registered*?"
   ]
  },
  {
   "cell_type": "code",
   "execution_count": 26,
   "metadata": {},
   "outputs": [
    {
     "data": {
      "image/png": "[encoded data removed]",
      "text/plain": [
       "<Figure size 500x600 with 1 Axes>"
      ]
     },
     "metadata": {},
     "output_type": "display_data"
    }
   ],
   "source": [
    "# Membuat grafik penggunaan layanan oleh pengguna casual dan registered\n",
    "user_type_df = day_df.groupby(\"workingday\", observed=True).agg({\n",
    "    'registered': 'mean', \n",
    "    'casual': 'mean'\n",
    "}).reset_index()\n",
    "\n",
    "plt.figure(figsize=(5, 6))\n",
    "\n",
    "plt.style.use(\"tableau-colorblind10\")\n",
    "\n",
    "plt.bar(\n",
    "    user_type_df['workingday'],\n",
    "    user_type_df['registered'],\n",
    "    label='Registered'\n",
    ")\n",
    "\n",
    "plt.bar(\n",
    "    user_type_df['workingday'],\n",
    "    user_type_df['casual'],\n",
    "    label='Casual'\n",
    ")\n",
    "\n",
    "plt.xlabel(None)\n",
    "plt.ylabel(None)\n",
    "plt.title('Perbedaan Penggunaan Layanan \\nPengguna Casual dan Registered\\n')\n",
    "plt.legend()\n",
    "plt.gcf().axes[0].yaxis.get_major_formatter().set_scientific(False)\n",
    "plt.show()"
   ]
  },
  {
   "cell_type": "markdown",
   "metadata": {},
   "source": [
    "**- Insight -**\n",
    "<br>Jika melihat dari grafik di atas, dapat dilihat bahwa pengguna *registered* cenderung menggunakan layanan pada saat Working Day sementara pengguna *casual* cenderung menggunakan layanan ketika Weekend/Holiday."
   ]
  },
  {
   "cell_type": "markdown",
   "metadata": {
    "id": "9y4VUsmcYNZ5"
   },
   "source": [
    "## Analisis Lanjutan"
   ]
  },
  {
   "cell_type": "markdown",
   "metadata": {},
   "source": [
    "Pada bagian ini, akan dilakukan clustering pada dataset untuk mengidentifikasi insight dari kelompok objek dengan karakteristik yang sama. Teknik clustering yang akan digunakan adalah Data Binning. Data binning merupakan teknik mengelompokkan data numerik ke dalam beberapa interval yang disebut sebagai *bin.* Kolom yang akan diolah pada tahap ini adalah kolom *'hour'* pada dataset `hour_df` dengan pembagian seperti berikut:\n",
    "\n",
    "1. Late Night: 0 - 3\n",
    "2. Early Morning: 4 - 6\n",
    "3. Morning: 7 - 12\n",
    "4. Afternoon: 13 - 17\n",
    "5. Evening: 19 - 20\n",
    "6. Night: 21 - 23"
   ]
  },
  {
   "cell_type": "code",
   "execution_count": 27,
   "metadata": {
    "id": "iWhnzsJGYUCO"
   },
   "outputs": [
    {
     "data": {
      "text/html": [
       "<div>\n",
       "<style scoped>\n",
       "    .dataframe tbody tr th:only-of-type {\n",
       "        vertical-align: middle;\n",
       "    }\n",
       "\n",
       "    .dataframe tbody tr th {\n",
       "        vertical-align: top;\n",
       "    }\n",
       "\n",
       "    .dataframe thead th {\n",
       "        text-align: right;\n",
       "    }\n",
       "</style>\n",
       "<table border=\"1\" class=\"dataframe\">\n",
       "  <thead>\n",
       "    <tr style=\"text-align: right;\">\n",
       "      <th></th>\n",
       "      <th>date</th>\n",
       "      <th>season</th>\n",
       "      <th>year</th>\n",
       "      <th>month</th>\n",
       "      <th>hour</th>\n",
       "      <th>day</th>\n",
       "      <th>workingday</th>\n",
       "      <th>weather</th>\n",
       "      <th>casual</th>\n",
       "      <th>registered</th>\n",
       "      <th>total</th>\n",
       "      <th>time_cluster</th>\n",
       "    </tr>\n",
       "  </thead>\n",
       "  <tbody>\n",
       "    <tr>\n",
       "      <th>16672</th>\n",
       "      <td>2012-12-02</td>\n",
       "      <td>Winter</td>\n",
       "      <td>2012</td>\n",
       "      <td>Dec</td>\n",
       "      <td>11</td>\n",
       "      <td>Sun</td>\n",
       "      <td>Weekend/Holiday</td>\n",
       "      <td>Cloudy</td>\n",
       "      <td>81</td>\n",
       "      <td>274</td>\n",
       "      <td>355</td>\n",
       "      <td>Morning</td>\n",
       "    </tr>\n",
       "    <tr>\n",
       "      <th>1070</th>\n",
       "      <td>2011-02-17</td>\n",
       "      <td>Spring</td>\n",
       "      <td>2011</td>\n",
       "      <td>Feb</td>\n",
       "      <td>8</td>\n",
       "      <td>Thu</td>\n",
       "      <td>Working Day</td>\n",
       "      <td>Clear</td>\n",
       "      <td>18</td>\n",
       "      <td>267</td>\n",
       "      <td>285</td>\n",
       "      <td>Morning</td>\n",
       "    </tr>\n",
       "    <tr>\n",
       "      <th>10977</th>\n",
       "      <td>2012-04-07</td>\n",
       "      <td>Summer</td>\n",
       "      <td>2012</td>\n",
       "      <td>Apr</td>\n",
       "      <td>13</td>\n",
       "      <td>Sat</td>\n",
       "      <td>Weekend/Holiday</td>\n",
       "      <td>Clear</td>\n",
       "      <td>355</td>\n",
       "      <td>288</td>\n",
       "      <td>643</td>\n",
       "      <td>Afternoon</td>\n",
       "    </tr>\n",
       "    <tr>\n",
       "      <th>8588</th>\n",
       "      <td>2011-12-29</td>\n",
       "      <td>Spring</td>\n",
       "      <td>2011</td>\n",
       "      <td>Dec</td>\n",
       "      <td>15</td>\n",
       "      <td>Thu</td>\n",
       "      <td>Working Day</td>\n",
       "      <td>Cloudy</td>\n",
       "      <td>27</td>\n",
       "      <td>150</td>\n",
       "      <td>177</td>\n",
       "      <td>Afternoon</td>\n",
       "    </tr>\n",
       "    <tr>\n",
       "      <th>9901</th>\n",
       "      <td>2012-02-22</td>\n",
       "      <td>Spring</td>\n",
       "      <td>2012</td>\n",
       "      <td>Feb</td>\n",
       "      <td>14</td>\n",
       "      <td>Wed</td>\n",
       "      <td>Working Day</td>\n",
       "      <td>Clear</td>\n",
       "      <td>35</td>\n",
       "      <td>142</td>\n",
       "      <td>177</td>\n",
       "      <td>Afternoon</td>\n",
       "    </tr>\n",
       "  </tbody>\n",
       "</table>\n",
       "</div>"
      ],
      "text/plain": [
       "            date  season  year month  hour  day       workingday weather  \\\n",
       "16672 2012-12-02  Winter  2012   Dec    11  Sun  Weekend/Holiday  Cloudy   \n",
       "1070  2011-02-17  Spring  2011   Feb     8  Thu      Working Day   Clear   \n",
       "10977 2012-04-07  Summer  2012   Apr    13  Sat  Weekend/Holiday   Clear   \n",
       "8588  2011-12-29  Spring  2011   Dec    15  Thu      Working Day  Cloudy   \n",
       "9901  2012-02-22  Spring  2012   Feb    14  Wed      Working Day   Clear   \n",
       "\n",
       "       casual  registered  total time_cluster  \n",
       "16672      81         274    355      Morning  \n",
       "1070       18         267    285      Morning  \n",
       "10977     355         288    643    Afternoon  \n",
       "8588       27         150    177    Afternoon  \n",
       "9901       35         142    177    Afternoon  "
      ]
     },
     "execution_count": 27,
     "metadata": {},
     "output_type": "execute_result"
    }
   ],
   "source": [
    "# Membuat kolom baru yang berisi kelompok waktu dengan nama `time_cluster`\n",
    "hour_df['time_cluster'] = pd.cut(hour_df['hour'], [-1, 3, 6, 12, 17, 20, 23], \n",
    "                                 labels = ['Late Night', 'Early Morning', 'Morning', 'Afternoon', 'Evening', 'Night'])\n",
    "\n",
    "hour_df.sample(5)"
   ]
  },
  {
   "cell_type": "code",
   "execution_count": 28,
   "metadata": {},
   "outputs": [
    {
     "data": {
      "image/png": "[encoded data removed]",
      "text/plain": [
       "<Figure size 1000x500 with 1 Axes>"
      ]
     },
     "metadata": {},
     "output_type": "display_data"
    }
   ],
   "source": [
    "# Membuat grafik penggunaan layanan berdasarkan kelompok waktu oleh pengguna casual dan registered\n",
    "time_cluster_count_df = hour_df.groupby(\"time_cluster\", observed=True).agg({\n",
    "    'registered': 'mean', \n",
    "    'casual': 'mean'\n",
    "}).reset_index()\n",
    "\n",
    "plt.figure(figsize=(10, 5))\n",
    "\n",
    "plt.style.use(\"tableau-colorblind10\")\n",
    "\n",
    "plt.bar(\n",
    "    time_cluster_count_df['time_cluster'],\n",
    "    time_cluster_count_df['registered'],\n",
    "    label='Registered'\n",
    ")\n",
    "\n",
    "plt.bar(\n",
    "    time_cluster_count_df['time_cluster'],\n",
    "    time_cluster_count_df['casual'],\n",
    "    label='Casual'\n",
    ")\n",
    "\n",
    "plt.xlabel(None)\n",
    "plt.ylabel(None)\n",
    "plt.title('Perbedaan Penggunaan Layanan Berdasarkan Kelompok Waktu \\nPengguna Casual dan Registered\\n')\n",
    "plt.legend()\n",
    "plt.gcf().axes[0].yaxis.get_major_formatter().set_scientific(False)\n",
    "plt.show()"
   ]
  },
  {
   "cell_type": "markdown",
   "metadata": {},
   "source": [
    "**- Insight -**\n",
    "<br>Dari grafik tersebut diketahui informasi tambahan mengenai perbedaan penggunaan layanan pada pengguna *casual* dan *registered*. Pengguna *casual* rata-rata menggunakan layanan pada siang hari, yaitu pada pukul 13-17. Sementara itu, pengguna *registered* rata-rata menggunakan layanan pada waktu petang, yaitu pukul 19-20."
   ]
  },
  {
   "cell_type": "markdown",
   "metadata": {
    "id": "_WeHlCeX8DC2"
   },
   "source": [
    "## Conclusion"
   ]
  },
  {
   "cell_type": "markdown",
   "metadata": {
    "id": "ZTcyR48Y8DC2"
   },
   "source": [
    "Dari proses analisis data yang telah dilakukan, dapat disimpulkan beberapa hal:\n",
    "1. **Conclusion 1**: Tren penggunaan layanan *bike sharing* cenderung meningkat dari tahun 2011-2012.\n",
    "2. **Conclusion 2**: Sepeda paling banyak digunakan pada hari Jum'at dan paling sedikit pada hari Minggu. Meskipun demikian, karena perbedaan yang tidak terlalu signifikan, dapat dikatakan bahwa penggunaan lebih banyak pada hari kerja.\n",
    "3. **Conclusion 3**: Sepeda paling banyak digunakan pada jam 5 sore dan paling sedikit pada jam 4 pagi.\n",
    "4. **Conclusion 4**: Sepeda paling banyak digunakan pada musim gugur (Fall) dan paling sedikit pada musim semi (Spring).\n",
    "5. **Conclusion 5**: Pengguna *casual* cenderung menggunakan layanan pada akhir pekan atau hari libur dan pada siang hari (13-17 PM). Pengguna *registered* cenderung menggunakan layanan pada hari kerja dan pada waktu petang (19-20 PM)."
   ]
  }
 ],
 "metadata": {
  "colab": {
   "provenance": []
  },
  "kernelspec": {
   "display_name": "Python 3 (ipykernel)",
   "language": "python",
   "name": "python3"
  },
  "language_info": {
   "codemirror_mode": {
    "name": "ipython",
    "version": 3
   },
   "file_extension": ".py",
   "mimetype": "text/x-python",
   "name": "python",
   "nbconvert_exporter": "python",
   "pygments_lexer": "ipython3",
   "version": "3.12.3"
  },
  "vscode": {
   "interpreter": {
    "hash": "972b3bf27e332e87b5379f2791f6ef9dfc79c71018c370b0d7423235e20fe4d7"
   }
  }
 },
 "nbformat": 4,
 "nbformat_minor": 4
}
